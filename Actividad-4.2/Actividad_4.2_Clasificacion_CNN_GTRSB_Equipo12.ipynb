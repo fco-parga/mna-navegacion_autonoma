{
 "cells": [
  {
   "attachments": {},
   "cell_type": "markdown",
   "id": "3ed85888-929e-4d72-bbad-e2c5f00a122f",
   "metadata": {
    "id": "HbdJf9c7sjC6"
   },
   "source": [
    "![image.png](data:image/png;base64,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)"
   ]
  },
  {
   "attachments": {},
   "cell_type": "markdown",
   "id": "e51c8607-265e-4e93-93e9-0548c5e45202",
   "metadata": {
    "id": "Tp5ajPUYspDb"
   },
   "source": [
    "# **Maestría en Inteligencia Artificial Aplicada**\n",
    "## **Curso: Navegación autónoma**\n",
    "### Tecnológico de Monterrey\n",
    "###  \tDr. David Antonio Torres\n",
    "\n",
    "#### **Actividad 4.2 - Detección de Señales de Tránsito**\n",
    "____\n"
   ]
  },
  {
   "attachments": {},
   "cell_type": "markdown",
   "id": "d48090fc-ffd1-4313-9311-40d915c0edd5",
   "metadata": {
    "id": "mE5nSQNcswCi"
   },
   "source": [
    "**Nombres y matrículas de los integrantes del equipo:**\n",
    "\n",
    "*   Julio Cesar Lynn Jimenez A01793660\n",
    "*   Francisco Javier Parga García A01794380\n",
    "*   Carlos Roberto Torres Ferguson A01215432\n",
    "*   Fernando Sebastian Sanchez Cardona A01687530\n",
    "\n",
    "____"
   ]
  },
  {
   "cell_type": "code",
   "execution_count": 1,
   "id": "6bc8d789-f57e-405b-83b1-1bcb9cf92100",
   "metadata": {},
   "outputs": [],
   "source": [
    "import os\n",
    "from tensorflow.keras.preprocessing.image import ImageDataGenerator\n",
    "from tensorflow.keras.layers import Conv2D, MaxPool2D, Flatten, Dense, Dropout, BatchNormalization, ReLU\n",
    "from tensorflow.keras.models import Sequential\n",
    "from tensorflow.keras.optimizers import Adam\n",
    "from tensorflow.keras.callbacks import EarlyStopping, ModelCheckpoint\n",
    "from tensorflow.keras.models import load_model\n",
    "import pandas as pd\n",
    "import numpy as np\n",
    "import tensorflow as tf\n",
    "\n",
    "import matplotlib.pyplot as plt\n",
    "from matplotlib import rcParams\n",
    "rcParams['figure.figsize'] = (5,3)"
   ]
  },
  {
   "cell_type": "code",
   "execution_count": 2,
   "id": "0bb416b0-5842-4221-ac9d-9f956897e8a8",
   "metadata": {},
   "outputs": [],
   "source": [
    "train_directory = 'data/Train'\n",
    "test_directory = 'data/Test'"
   ]
  },
  {
   "cell_type": "code",
   "execution_count": 3,
   "id": "eb5fe895-15c8-4c73-9e5a-63aed21bfde1",
   "metadata": {},
   "outputs": [],
   "source": [
    "# Create generator with data augmentation\n",
    "train_datagen = ImageDataGenerator(rescale=1./255,\n",
    "                                   horizontal_flip=True,\n",
    "                                   vertical_flip=False,\n",
    "                                   fill_mode='nearest',\n",
    "                                   validation_split=0.25)"
   ]
  },
  {
   "cell_type": "code",
   "execution_count": 4,
   "id": "fc358f6f-15fd-420b-800a-4922a2a95f0f",
   "metadata": {},
   "outputs": [
    {
     "name": "stdout",
     "output_type": "stream",
     "text": [
      "Found 29416 images belonging to 43 classes.\n",
      "Found 9793 images belonging to 43 classes.\n"
     ]
    }
   ],
   "source": [
    "batch_size = 128\n",
    "image_size = (28,28)\n",
    "# Keras ImageDataGenerator provides a method flow_from_directory to load images in batches\n",
    "# This is useful for large datasets to fit into memory\n",
    "train_generator = train_datagen.flow_from_directory(train_directory,\n",
    "                                                    target_size=image_size,\n",
    "                                                    batch_size=batch_size,\n",
    "                                                    class_mode='categorical',\n",
    "                                                    classes= list(map(str,range(0,43))),\n",
    "                                                    subset='training')  # set as training data\n",
    "\n",
    "validation_generator = train_datagen.flow_from_directory(train_directory,  # same directory as training data\n",
    "                                                         target_size=image_size,\n",
    "                                                         batch_size=batch_size,\n",
    "                                                         class_mode='categorical',\n",
    "                                                         classes=  list(map(str,range(0,43))),\n",
    "                                                         subset='validation')  # set as validation data"
   ]
  },
  {
   "cell_type": "code",
   "execution_count": 5,
   "id": "1f0771f4-dca0-4a0a-897c-69bf9eeb2a11",
   "metadata": {},
   "outputs": [],
   "source": [
    "def initialize_model():\n",
    "    model = Sequential()\n",
    "\n",
    "    ### First Convolution & MaxPooling\n",
    "    model.add(Conv2D(32, (3,3),padding = \"same\", input_shape=image_size+(3,), activation=\"relu\"))\n",
    "    model.add(Conv2D(32, (3,3), activation=\"relu\"))\n",
    "    model.add(MaxPool2D(pool_size=(2,2)))\n",
    "    #model.add(BatchNormalization())\n",
    "    model.add(Dropout(0.25))\n",
    "    \n",
    "    ### Third Conv\n",
    "    model.add(Conv2D(64, (3,3), padding='same', activation=\"relu\"))\n",
    "    model.add(Conv2D(64, (3,3), activation=\"relu\"))\n",
    "    model.add(MaxPool2D(pool_size=(2,2)))\n",
    "    #model.add(BatchNormalization())\n",
    "    model.add(Dropout(0.25))\n",
    "\n",
    "    ### Flattening\n",
    "    model.add(Flatten())\n",
    "    \n",
    "    ### One \"Dense\" layer\n",
    "    model.add(Dense(392, activation='relu'))\n",
    "    model.add(Dropout(0.5))\n",
    "    \n",
    "\n",
    "    ### Last layer 43 outputs\n",
    "    model.add(Dense(43, activation='softmax')) #Softmax(43)  \n",
    "    return model\n",
    "\n",
    "\n",
    "def compile_model(model):\n",
    "\n",
    "    model.compile(loss='categorical_crossentropy', \n",
    "                  optimizer='adam', \n",
    "                  metrics=['accuracy', 'Recall', 'Precision']) \n",
    "    return model"
   ]
  },
  {
   "cell_type": "code",
   "execution_count": 6,
   "id": "faafc6e2-ef03-41b2-8fe3-afeb5f64d029",
   "metadata": {},
   "outputs": [
    {
     "name": "stdout",
     "output_type": "stream",
     "text": [
      "Model: \"sequential\"\n",
      "_________________________________________________________________\n",
      " Layer (type)                Output Shape              Param #   \n",
      "=================================================================\n",
      " conv2d (Conv2D)             (None, 28, 28, 32)        896       \n",
      "                                                                 \n",
      " conv2d_1 (Conv2D)           (None, 26, 26, 32)        9248      \n",
      "                                                                 \n",
      " max_pooling2d (MaxPooling2D  (None, 13, 13, 32)       0         \n",
      " )                                                               \n",
      "                                                                 \n",
      " dropout (Dropout)           (None, 13, 13, 32)        0         \n",
      "                                                                 \n",
      " conv2d_2 (Conv2D)           (None, 13, 13, 64)        18496     \n",
      "                                                                 \n",
      " conv2d_3 (Conv2D)           (None, 11, 11, 64)        36928     \n",
      "                                                                 \n",
      " max_pooling2d_1 (MaxPooling  (None, 5, 5, 64)         0         \n",
      " 2D)                                                             \n",
      "                                                                 \n",
      " dropout_1 (Dropout)         (None, 5, 5, 64)          0         \n",
      "                                                                 \n",
      " flatten (Flatten)           (None, 1600)              0         \n",
      "                                                                 \n",
      " dense (Dense)               (None, 392)               627592    \n",
      "                                                                 \n",
      " dropout_2 (Dropout)         (None, 392)               0         \n",
      "                                                                 \n",
      " dense_1 (Dense)             (None, 43)                16899     \n",
      "                                                                 \n",
      "=================================================================\n",
      "Total params: 710,059\n",
      "Trainable params: 710,059\n",
      "Non-trainable params: 0\n",
      "_________________________________________________________________\n"
     ]
    }
   ],
   "source": [
    "model_keras = initialize_model()\n",
    "model_keras = compile_model(model_keras)\n",
    "\n",
    "model_keras.summary()"
   ]
  },
  {
   "cell_type": "code",
   "execution_count": 7,
   "id": "9761afdd-b9b0-4cc3-a324-6718672b0703",
   "metadata": {},
   "outputs": [],
   "source": [
    "early_stop = EarlyStopping(monitor = 'val_accuracy', \n",
    "                           mode = 'max', \n",
    "                           patience = 7,  \n",
    "                           restore_best_weights = True,\n",
    "                           verbose=1)\n",
    "\n",
    "model_checkpoint = ModelCheckpoint('best_model.h5', \n",
    "                                   monitor='val_accuracy', \n",
    "                                   mode='max', \n",
    "                                   verbose=1, \n",
    "                                   save_best_only=True)"
   ]
  },
  {
   "cell_type": "code",
   "execution_count": 8,
   "id": "47aaa41e-59b4-49aa-8ea2-622e3cf285ed",
   "metadata": {},
   "outputs": [
    {
     "name": "stdout",
     "output_type": "stream",
     "text": [
      "Epoch 1/101\n",
      "229/230 [============================>.] - ETA: 0s - loss: 2.2237 - accuracy: 0.3723 - recall: 0.2011 - precision: 0.7761\n",
      "Epoch 1: val_accuracy improved from -inf to 0.65006, saving model to best_model.h5\n",
      "230/230 [==============================] - 17s 60ms/step - loss: 2.2190 - accuracy: 0.3734 - recall: 0.2024 - precision: 0.7761 - val_loss: 1.1673 - val_accuracy: 0.6501 - val_recall: 0.4419 - val_precision: 0.8339\n",
      "Epoch 2/101\n",
      "230/230 [==============================] - ETA: 0s - loss: 0.7952 - accuracy: 0.7392 - recall: 0.6337 - precision: 0.8521\n",
      "Epoch 2: val_accuracy improved from 0.65006 to 0.78679, saving model to best_model.h5\n",
      "230/230 [==============================] - 13s 57ms/step - loss: 0.7952 - accuracy: 0.7392 - recall: 0.6337 - precision: 0.8521 - val_loss: 0.6740 - val_accuracy: 0.7868 - val_recall: 0.7178 - val_precision: 0.8693\n",
      "Epoch 3/101\n",
      "229/230 [============================>.] - ETA: 0s - loss: 0.4520 - accuracy: 0.8499 - recall: 0.8032 - precision: 0.8981\n",
      "Epoch 3: val_accuracy improved from 0.78679 to 0.84571, saving model to best_model.h5\n",
      "230/230 [==============================] - 13s 56ms/step - loss: 0.4525 - accuracy: 0.8496 - recall: 0.8030 - precision: 0.8979 - val_loss: 0.5391 - val_accuracy: 0.8457 - val_recall: 0.8028 - val_precision: 0.8942\n",
      "Epoch 4/101\n",
      "229/230 [============================>.] - ETA: 0s - loss: 0.3291 - accuracy: 0.8910 - recall: 0.8612 - precision: 0.9219\n",
      "Epoch 4: val_accuracy improved from 0.84571 to 0.85980, saving model to best_model.h5\n",
      "230/230 [==============================] - 13s 55ms/step - loss: 0.3290 - accuracy: 0.8910 - recall: 0.8612 - precision: 0.9220 - val_loss: 0.5034 - val_accuracy: 0.8598 - val_recall: 0.8250 - val_precision: 0.8999\n",
      "Epoch 5/101\n",
      "230/230 [==============================] - ETA: 0s - loss: 0.2578 - accuracy: 0.9136 - recall: 0.8942 - precision: 0.9338\n",
      "Epoch 5: val_accuracy improved from 0.85980 to 0.86878, saving model to best_model.h5\n",
      "230/230 [==============================] - 12s 53ms/step - loss: 0.2578 - accuracy: 0.9136 - recall: 0.8942 - precision: 0.9338 - val_loss: 0.4518 - val_accuracy: 0.8688 - val_recall: 0.8416 - val_precision: 0.9062\n",
      "Epoch 6/101\n",
      "230/230 [==============================] - ETA: 0s - loss: 0.2201 - accuracy: 0.9263 - recall: 0.9117 - precision: 0.9424\n",
      "Epoch 6: val_accuracy improved from 0.86878 to 0.88145, saving model to best_model.h5\n",
      "230/230 [==============================] - 12s 51ms/step - loss: 0.2201 - accuracy: 0.9263 - recall: 0.9117 - precision: 0.9424 - val_loss: 0.4409 - val_accuracy: 0.8814 - val_recall: 0.8616 - val_precision: 0.9089\n",
      "Epoch 7/101\n",
      "230/230 [==============================] - ETA: 0s - loss: 0.1803 - accuracy: 0.9398 - recall: 0.9290 - precision: 0.9520\n",
      "Epoch 7: val_accuracy improved from 0.88145 to 0.88400, saving model to best_model.h5\n",
      "230/230 [==============================] - 12s 52ms/step - loss: 0.1803 - accuracy: 0.9398 - recall: 0.9290 - precision: 0.9520 - val_loss: 0.4177 - val_accuracy: 0.8840 - val_recall: 0.8669 - val_precision: 0.9110\n",
      "Epoch 8/101\n",
      "230/230 [==============================] - ETA: 0s - loss: 0.1634 - accuracy: 0.9460 - recall: 0.9364 - precision: 0.9560\n",
      "Epoch 8: val_accuracy improved from 0.88400 to 0.89053, saving model to best_model.h5\n",
      "230/230 [==============================] - 12s 52ms/step - loss: 0.1634 - accuracy: 0.9460 - recall: 0.9364 - precision: 0.9560 - val_loss: 0.4098 - val_accuracy: 0.8905 - val_recall: 0.8756 - val_precision: 0.9154\n",
      "Epoch 9/101\n",
      "229/230 [============================>.] - ETA: 0s - loss: 0.1469 - accuracy: 0.9516 - recall: 0.9434 - precision: 0.9601\n",
      "Epoch 9: val_accuracy did not improve from 0.89053\n",
      "230/230 [==============================] - 12s 51ms/step - loss: 0.1466 - accuracy: 0.9517 - recall: 0.9435 - precision: 0.9601 - val_loss: 0.4746 - val_accuracy: 0.8867 - val_recall: 0.8739 - val_precision: 0.9055\n",
      "Epoch 10/101\n",
      "229/230 [============================>.] - ETA: 0s - loss: 0.1327 - accuracy: 0.9563 - recall: 0.9488 - precision: 0.9640\n",
      "Epoch 10: val_accuracy improved from 0.89053 to 0.90473, saving model to best_model.h5\n",
      "230/230 [==============================] - 12s 54ms/step - loss: 0.1327 - accuracy: 0.9564 - recall: 0.9489 - precision: 0.9640 - val_loss: 0.3591 - val_accuracy: 0.9047 - val_recall: 0.8915 - val_precision: 0.9267\n",
      "Epoch 11/101\n",
      "230/230 [==============================] - ETA: 0s - loss: 0.1196 - accuracy: 0.9590 - recall: 0.9536 - precision: 0.9660\n",
      "Epoch 11: val_accuracy did not improve from 0.90473\n",
      "230/230 [==============================] - 13s 54ms/step - loss: 0.1196 - accuracy: 0.9590 - recall: 0.9536 - precision: 0.9660 - val_loss: 0.3925 - val_accuracy: 0.8998 - val_recall: 0.8896 - val_precision: 0.9182\n",
      "Epoch 12/101\n",
      "230/230 [==============================] - ETA: 0s - loss: 0.1093 - accuracy: 0.9633 - recall: 0.9584 - precision: 0.9692\n",
      "Epoch 12: val_accuracy improved from 0.90473 to 0.90851, saving model to best_model.h5\n",
      "230/230 [==============================] - 12s 54ms/step - loss: 0.1093 - accuracy: 0.9633 - recall: 0.9584 - precision: 0.9692 - val_loss: 0.3908 - val_accuracy: 0.9085 - val_recall: 0.9011 - val_precision: 0.9237\n",
      "Epoch 13/101\n",
      "229/230 [============================>.] - ETA: 0s - loss: 0.1051 - accuracy: 0.9651 - recall: 0.9611 - precision: 0.9713\n",
      "Epoch 13: val_accuracy did not improve from 0.90851\n",
      "230/230 [==============================] - 13s 55ms/step - loss: 0.1051 - accuracy: 0.9651 - recall: 0.9611 - precision: 0.9713 - val_loss: 0.4064 - val_accuracy: 0.9015 - val_recall: 0.8907 - val_precision: 0.9212\n",
      "Epoch 14/101\n",
      "229/230 [============================>.] - ETA: 0s - loss: 0.0958 - accuracy: 0.9693 - recall: 0.9652 - precision: 0.9737\n",
      "Epoch 14: val_accuracy improved from 0.90851 to 0.90922, saving model to best_model.h5\n",
      "230/230 [==============================] - 13s 55ms/step - loss: 0.0957 - accuracy: 0.9693 - recall: 0.9653 - precision: 0.9737 - val_loss: 0.3793 - val_accuracy: 0.9092 - val_recall: 0.8986 - val_precision: 0.9252\n",
      "Epoch 15/101\n",
      "229/230 [============================>.] - ETA: 0s - loss: 0.0943 - accuracy: 0.9692 - recall: 0.9650 - precision: 0.9734\n",
      "Epoch 15: val_accuracy improved from 0.90922 to 0.91525, saving model to best_model.h5\n",
      "230/230 [==============================] - 13s 55ms/step - loss: 0.0943 - accuracy: 0.9691 - recall: 0.9649 - precision: 0.9733 - val_loss: 0.3837 - val_accuracy: 0.9152 - val_recall: 0.9093 - val_precision: 0.9272\n",
      "Epoch 16/101\n",
      "230/230 [==============================] - ETA: 0s - loss: 0.0863 - accuracy: 0.9713 - recall: 0.9677 - precision: 0.9750\n",
      "Epoch 16: val_accuracy improved from 0.91525 to 0.92137, saving model to best_model.h5\n",
      "230/230 [==============================] - 13s 55ms/step - loss: 0.0863 - accuracy: 0.9713 - recall: 0.9677 - precision: 0.9750 - val_loss: 0.3321 - val_accuracy: 0.9214 - val_recall: 0.9147 - val_precision: 0.9355\n",
      "Epoch 17/101\n",
      "229/230 [============================>.] - ETA: 0s - loss: 0.0806 - accuracy: 0.9727 - recall: 0.9691 - precision: 0.9760\n",
      "Epoch 17: val_accuracy did not improve from 0.92137\n",
      "230/230 [==============================] - 13s 56ms/step - loss: 0.0807 - accuracy: 0.9726 - recall: 0.9691 - precision: 0.9760 - val_loss: 0.3914 - val_accuracy: 0.9102 - val_recall: 0.9028 - val_precision: 0.9239\n",
      "Epoch 18/101\n",
      "230/230 [==============================] - ETA: 0s - loss: 0.0752 - accuracy: 0.9751 - recall: 0.9725 - precision: 0.9780\n",
      "Epoch 18: val_accuracy did not improve from 0.92137\n",
      "230/230 [==============================] - 13s 57ms/step - loss: 0.0752 - accuracy: 0.9751 - recall: 0.9725 - precision: 0.9780 - val_loss: 0.3759 - val_accuracy: 0.9120 - val_recall: 0.9046 - val_precision: 0.9274\n",
      "Epoch 19/101\n",
      "229/230 [============================>.] - ETA: 0s - loss: 0.0730 - accuracy: 0.9751 - recall: 0.9731 - precision: 0.9783\n",
      "Epoch 19: val_accuracy did not improve from 0.92137\n",
      "230/230 [==============================] - 13s 57ms/step - loss: 0.0734 - accuracy: 0.9750 - recall: 0.9729 - precision: 0.9782 - val_loss: 0.3318 - val_accuracy: 0.9181 - val_recall: 0.9095 - val_precision: 0.9290\n",
      "Epoch 20/101\n",
      "230/230 [==============================] - ETA: 0s - loss: 0.0715 - accuracy: 0.9761 - recall: 0.9732 - precision: 0.9795\n",
      "Epoch 20: val_accuracy did not improve from 0.92137\n",
      "230/230 [==============================] - 13s 57ms/step - loss: 0.0715 - accuracy: 0.9761 - recall: 0.9732 - precision: 0.9795 - val_loss: 0.4076 - val_accuracy: 0.9086 - val_recall: 0.9022 - val_precision: 0.9249\n",
      "Epoch 21/101\n",
      "229/230 [============================>.] - ETA: 0s - loss: 0.0683 - accuracy: 0.9770 - recall: 0.9744 - precision: 0.9797\n",
      "Epoch 21: val_accuracy improved from 0.92137 to 0.92362, saving model to best_model.h5\n",
      "230/230 [==============================] - 13s 57ms/step - loss: 0.0685 - accuracy: 0.9768 - recall: 0.9743 - precision: 0.9796 - val_loss: 0.3607 - val_accuracy: 0.9236 - val_recall: 0.9199 - val_precision: 0.9326\n",
      "Epoch 22/101\n",
      "229/230 [============================>.] - ETA: 0s - loss: 0.0647 - accuracy: 0.9779 - recall: 0.9758 - precision: 0.9809\n",
      "Epoch 22: val_accuracy did not improve from 0.92362\n",
      "230/230 [==============================] - 13s 57ms/step - loss: 0.0648 - accuracy: 0.9778 - recall: 0.9758 - precision: 0.9808 - val_loss: 0.3718 - val_accuracy: 0.9193 - val_recall: 0.9136 - val_precision: 0.9293\n",
      "Epoch 23/101\n",
      "230/230 [==============================] - ETA: 0s - loss: 0.0618 - accuracy: 0.9790 - recall: 0.9771 - precision: 0.9812\n",
      "Epoch 23: val_accuracy did not improve from 0.92362\n",
      "230/230 [==============================] - 14s 59ms/step - loss: 0.0618 - accuracy: 0.9790 - recall: 0.9771 - precision: 0.9812 - val_loss: 0.4598 - val_accuracy: 0.9147 - val_recall: 0.9079 - val_precision: 0.9243\n",
      "Epoch 24/101\n",
      "230/230 [==============================] - ETA: 0s - loss: 0.0578 - accuracy: 0.9805 - recall: 0.9788 - precision: 0.9830\n",
      "Epoch 24: val_accuracy did not improve from 0.92362\n",
      "230/230 [==============================] - 14s 59ms/step - loss: 0.0578 - accuracy: 0.9805 - recall: 0.9788 - precision: 0.9830 - val_loss: 0.3831 - val_accuracy: 0.9174 - val_recall: 0.9123 - val_precision: 0.9288\n",
      "Epoch 25/101\n",
      "229/230 [============================>.] - ETA: 0s - loss: 0.0608 - accuracy: 0.9797 - recall: 0.9776 - precision: 0.9819\n",
      "Epoch 25: val_accuracy improved from 0.92362 to 0.92495, saving model to best_model.h5\n",
      "230/230 [==============================] - 14s 59ms/step - loss: 0.0609 - accuracy: 0.9795 - recall: 0.9775 - precision: 0.9818 - val_loss: 0.3512 - val_accuracy: 0.9249 - val_recall: 0.9209 - val_precision: 0.9351\n",
      "Epoch 26/101\n",
      "229/230 [============================>.] - ETA: 0s - loss: 0.0551 - accuracy: 0.9819 - recall: 0.9803 - precision: 0.9840\n",
      "Epoch 26: val_accuracy did not improve from 0.92495\n",
      "230/230 [==============================] - 14s 60ms/step - loss: 0.0553 - accuracy: 0.9819 - recall: 0.9803 - precision: 0.9839 - val_loss: 0.4730 - val_accuracy: 0.9122 - val_recall: 0.9080 - val_precision: 0.9221\n",
      "Epoch 27/101\n",
      "230/230 [==============================] - ETA: 0s - loss: 0.0538 - accuracy: 0.9820 - recall: 0.9802 - precision: 0.9839\n",
      "Epoch 27: val_accuracy improved from 0.92495 to 0.92944, saving model to best_model.h5\n",
      "230/230 [==============================] - 14s 60ms/step - loss: 0.0538 - accuracy: 0.9820 - recall: 0.9802 - precision: 0.9839 - val_loss: 0.3188 - val_accuracy: 0.9294 - val_recall: 0.9231 - val_precision: 0.9392\n",
      "Epoch 28/101\n",
      "230/230 [==============================] - ETA: 0s - loss: 0.0565 - accuracy: 0.9802 - recall: 0.9789 - precision: 0.9826\n",
      "Epoch 28: val_accuracy did not improve from 0.92944\n",
      "230/230 [==============================] - 14s 59ms/step - loss: 0.0565 - accuracy: 0.9802 - recall: 0.9789 - precision: 0.9826 - val_loss: 0.4257 - val_accuracy: 0.9180 - val_recall: 0.9137 - val_precision: 0.9252\n",
      "Epoch 29/101\n",
      "230/230 [==============================] - ETA: 0s - loss: 0.0534 - accuracy: 0.9825 - recall: 0.9811 - precision: 0.9841\n",
      "Epoch 29: val_accuracy did not improve from 0.92944\n",
      "230/230 [==============================] - 14s 59ms/step - loss: 0.0534 - accuracy: 0.9825 - recall: 0.9811 - precision: 0.9841 - val_loss: 0.4267 - val_accuracy: 0.9125 - val_recall: 0.9089 - val_precision: 0.9215\n",
      "Epoch 30/101\n",
      "229/230 [============================>.] - ETA: 0s - loss: 0.0521 - accuracy: 0.9830 - recall: 0.9816 - precision: 0.9848\n",
      "Epoch 30: val_accuracy did not improve from 0.92944\n",
      "230/230 [==============================] - 14s 60ms/step - loss: 0.0523 - accuracy: 0.9830 - recall: 0.9816 - precision: 0.9848 - val_loss: 0.3900 - val_accuracy: 0.9261 - val_recall: 0.9236 - val_precision: 0.9323\n",
      "Epoch 31/101\n",
      "230/230 [==============================] - ETA: 0s - loss: 0.0461 - accuracy: 0.9842 - recall: 0.9831 - precision: 0.9860\n",
      "Epoch 31: val_accuracy did not improve from 0.92944\n",
      "230/230 [==============================] - 14s 60ms/step - loss: 0.0461 - accuracy: 0.9842 - recall: 0.9831 - precision: 0.9860 - val_loss: 0.3319 - val_accuracy: 0.9284 - val_recall: 0.9233 - val_precision: 0.9362\n",
      "Epoch 32/101\n",
      "230/230 [==============================] - ETA: 0s - loss: 0.0524 - accuracy: 0.9833 - recall: 0.9821 - precision: 0.9852\n",
      "Epoch 32: val_accuracy improved from 0.92944 to 0.93414, saving model to best_model.h5\n",
      "230/230 [==============================] - 14s 60ms/step - loss: 0.0524 - accuracy: 0.9833 - recall: 0.9821 - precision: 0.9852 - val_loss: 0.2969 - val_accuracy: 0.9341 - val_recall: 0.9291 - val_precision: 0.9407\n",
      "Epoch 33/101\n",
      "229/230 [============================>.] - ETA: 0s - loss: 0.0510 - accuracy: 0.9836 - recall: 0.9823 - precision: 0.9849\n",
      "Epoch 33: val_accuracy did not improve from 0.93414\n",
      "230/230 [==============================] - 14s 60ms/step - loss: 0.0509 - accuracy: 0.9837 - recall: 0.9824 - precision: 0.9850 - val_loss: 0.3916 - val_accuracy: 0.9227 - val_recall: 0.9181 - val_precision: 0.9321\n",
      "Epoch 34/101\n",
      "230/230 [==============================] - ETA: 0s - loss: 0.0506 - accuracy: 0.9835 - recall: 0.9822 - precision: 0.9854\n",
      "Epoch 34: val_accuracy did not improve from 0.93414\n",
      "230/230 [==============================] - 15s 64ms/step - loss: 0.0506 - accuracy: 0.9835 - recall: 0.9822 - precision: 0.9854 - val_loss: 0.3737 - val_accuracy: 0.9253 - val_recall: 0.9213 - val_precision: 0.9318\n",
      "Epoch 35/101\n",
      "230/230 [==============================] - ETA: 0s - loss: 0.0421 - accuracy: 0.9856 - recall: 0.9845 - precision: 0.9870\n",
      "Epoch 35: val_accuracy did not improve from 0.93414\n",
      "230/230 [==============================] - 14s 63ms/step - loss: 0.0421 - accuracy: 0.9856 - recall: 0.9845 - precision: 0.9870 - val_loss: 0.4074 - val_accuracy: 0.9254 - val_recall: 0.9217 - val_precision: 0.9311\n",
      "Epoch 36/101\n",
      "230/230 [==============================] - ETA: 0s - loss: 0.0459 - accuracy: 0.9848 - recall: 0.9835 - precision: 0.9858\n",
      "Epoch 36: val_accuracy did not improve from 0.93414\n",
      "230/230 [==============================] - 14s 62ms/step - loss: 0.0459 - accuracy: 0.9848 - recall: 0.9835 - precision: 0.9858 - val_loss: 0.4383 - val_accuracy: 0.9122 - val_recall: 0.9069 - val_precision: 0.9239\n",
      "Epoch 37/101\n",
      "230/230 [==============================] - ETA: 0s - loss: 0.0441 - accuracy: 0.9849 - recall: 0.9840 - precision: 0.9862\n",
      "Epoch 37: val_accuracy did not improve from 0.93414\n",
      "230/230 [==============================] - 14s 62ms/step - loss: 0.0441 - accuracy: 0.9849 - recall: 0.9840 - precision: 0.9862 - val_loss: 0.3715 - val_accuracy: 0.9262 - val_recall: 0.9227 - val_precision: 0.9331\n",
      "Epoch 38/101\n",
      "230/230 [==============================] - ETA: 0s - loss: 0.0435 - accuracy: 0.9851 - recall: 0.9841 - precision: 0.9869\n",
      "Epoch 38: val_accuracy did not improve from 0.93414\n",
      "230/230 [==============================] - 14s 61ms/step - loss: 0.0435 - accuracy: 0.9851 - recall: 0.9841 - precision: 0.9869 - val_loss: 0.3656 - val_accuracy: 0.9305 - val_recall: 0.9277 - val_precision: 0.9372\n",
      "Epoch 39/101\n",
      "229/230 [============================>.] - ETA: 0s - loss: 0.0434 - accuracy: 0.9857 - recall: 0.9848 - precision: 0.9869Restoring model weights from the end of the best epoch: 32.\n",
      "\n",
      "Epoch 39: val_accuracy did not improve from 0.93414\n",
      "230/230 [==============================] - 13s 56ms/step - loss: 0.0435 - accuracy: 0.9856 - recall: 0.9848 - precision: 0.9869 - val_loss: 0.4024 - val_accuracy: 0.9252 - val_recall: 0.9223 - val_precision: 0.9323\n",
      "Epoch 39: early stopping\n",
      "CPU times: total: 12min 40s\n",
      "Wall time: 8min 38s\n"
     ]
    }
   ],
   "source": [
    "%%time\n",
    "\n",
    "history = model_keras.fit(train_generator,\n",
    "                            epochs=101,\n",
    "                            validation_data=validation_generator,\n",
    "                            callbacks=[early_stop, model_checkpoint]) "
   ]
  },
  {
   "cell_type": "code",
   "execution_count": 9,
   "id": "2ec11d92-ed04-4551-b747-147381cf4102",
   "metadata": {},
   "outputs": [
    {
     "data": {
      "image/png": "[encoded data removed]",
      "text/plain": [
       "<Figure size 1200x400 with 2 Axes>"
      ]
     },
     "metadata": {},
     "output_type": "display_data"
    }
   ],
   "source": [
    "# Plot the loss and accuracy curves\n",
    "plt.figure(figsize=(12, 4))\n",
    "\n",
    "plt.subplot(1, 2, 1)\n",
    "plt.plot(history.history['loss'])\n",
    "plt.plot(history.history['val_loss'])\n",
    "plt.title('Loss')\n",
    "plt.xlabel('Epoch')\n",
    "plt.ylabel('Loss')\n",
    "plt.legend(['Train', 'Validation'])\n",
    "\n",
    "plt.subplot(1, 2, 2)\n",
    "plt.plot(history.history['accuracy'])\n",
    "plt.plot(history.history['val_accuracy'])\n",
    "plt.title('Accuracy')\n",
    "plt.xlabel('Epoch')\n",
    "plt.ylabel('Accuracy')\n",
    "plt.legend(['Train', 'Validation'])\n",
    "\n",
    "plt.tight_layout()\n",
    "plt.show()"
   ]
  },
  {
   "cell_type": "code",
   "execution_count": 6,
   "id": "3f157ca8-67de-4f7a-b176-2b0d44b377b8",
   "metadata": {},
   "outputs": [],
   "source": [
    "# Load the pandas table with the image paths and classes\n",
    "df = pd.read_csv(\"data/Test.csv\")\n",
    "\n",
    "# Define a function that loads an image from a path and preprocesses it\n",
    "def load_image(path):\n",
    "  # Read the image file\n",
    "  image = tf.io.read_file(path)\n",
    "  # Decode the image as JPEG\n",
    "  image = tf.image.decode_png(image, channels=3)\n",
    "  # Resize the image to a fixed size\n",
    "  image = tf.image.resize(image, image_size)\n",
    "  # Normalize the pixel values to [0, 1] range\n",
    "  image = image / 255.0\n",
    "  return image\n",
    "\n",
    "# Define a function that loads a batch of images and labels from the pandas table\n",
    "def load_batch(df, batch_size):\n",
    "  # Shuffle the table\n",
    "  df = df.sample(frac=1).reset_index(drop=True)\n",
    "  # Loop over the table in batches\n",
    "  for i in range(0, len(df), batch_size):\n",
    "    # Get the batch of paths and classes\n",
    "    batch_paths = df[\"Path\"][i:i+batch_size]\n",
    "    batch_classes = df[\"ClassId\"][i:i+batch_size]\n",
    "    # Load the batch of images\n",
    "    batch_images = [load_image('data/' + path) for path in batch_paths]\n",
    "    # Convert the batch of images and labels to tensors\n",
    "    batch_images = tf.stack(batch_images)\n",
    "    # Convert the batch of labels to categorical tensors\n",
    "    batch_labels = tf.keras.utils.to_categorical(batch_classes, num_classes=43)\n",
    "    yield batch_images, batch_labels\n",
    "\n",
    "# Define a data loader function that uses the load_batch function\n",
    "def data_loader(df, batch_size):\n",
    "  # Create a dataset from the load_batch function\n",
    "  dataset = tf.data.Dataset.from_generator(\n",
    "                                        lambda: load_batch(df, batch_size),\n",
    "                                        output_types=(tf.float32, tf.float32),\n",
    "                                        output_shapes=([None, image_size[0], image_size[1], 3], [None, None])\n",
    "  )\n",
    "  return dataset\n",
    "\n",
    "# Create a data loader with a batch size of 32\n",
    "data_loader = data_loader(df, 32)"
   ]
  },
  {
   "cell_type": "code",
   "execution_count": 7,
   "id": "038b58c5-5461-4281-9aef-877f3ef631cc",
   "metadata": {},
   "outputs": [
    {
     "name": "stdout",
     "output_type": "stream",
     "text": [
      "395/395 [==============================] - 113s 277ms/step - loss: 0.2606 - accuracy: 0.9435 - recall: 0.9408 - precision: 0.9494\n"
     ]
    },
    {
     "data": {
      "text/plain": [
       "[0.2606205344200134, 0.943467915058136, 0.9407759308815002, 0.949420690536499]"
      ]
     },
     "execution_count": 7,
     "metadata": {},
     "output_type": "execute_result"
    }
   ],
   "source": [
    "# Load a model from a file\n",
    "model = tf.keras.models.load_model(\"best_model.h5\")\n",
    "\n",
    "# Evaluate the model on the data loader\n",
    "model.evaluate(data_loader)"
   ]
  },
  {
   "cell_type": "code",
   "execution_count": 8,
   "id": "5185c877-42aa-45f5-95f6-b002f942efcd",
   "metadata": {},
   "outputs": [
    {
     "data": {
      "text/plain": [
       "<tf.Tensor: shape=(1, 43), dtype=float32, numpy=\n",
       "array([[4.47614561e-26, 2.25426104e-19, 9.07456633e-21, 1.96111619e-18,\n",
       "        1.97565409e-32, 1.04252724e-17, 4.05784831e-17, 1.29659014e-17,\n",
       "        2.78415114e-26, 5.98783696e-22, 5.66360584e-14, 1.00000000e+00,\n",
       "        4.27841593e-15, 1.21926539e-25, 7.81783166e-24, 3.43318347e-34,\n",
       "        1.60353247e-17, 3.47852358e-24, 5.60083912e-21, 4.24796751e-17,\n",
       "        3.12965108e-17, 1.16671822e-13, 2.55847648e-36, 2.27311442e-13,\n",
       "        2.87518061e-20, 7.24553590e-21, 7.12326651e-17, 2.63412174e-11,\n",
       "        1.40509174e-16, 3.90844575e-23, 1.53545093e-10, 9.94713845e-19,\n",
       "        9.00583299e-22, 5.45396731e-21, 3.76304638e-24, 2.49088952e-22,\n",
       "        7.44184819e-28, 7.65105564e-22, 1.12486361e-20, 1.94955132e-29,\n",
       "        3.88397892e-17, 7.08080615e-19, 1.92136931e-11]], dtype=float32)>"
      ]
     },
     "execution_count": 8,
     "metadata": {},
     "output_type": "execute_result"
    }
   ],
   "source": [
    "test_image =  next(load_batch(df, 1))[0]\n",
    "model(test_image)"
   ]
  },
  {
   "cell_type": "code",
   "execution_count": 9,
   "id": "39ef7204-c01a-4b6a-a667-becaef702765",
   "metadata": {},
   "outputs": [
    {
     "data": {
      "text/plain": [
       "<tf.Tensor: shape=(43,), dtype=bool, numpy=\n",
       "array([False, False, False, False, False, False, False, False, False,\n",
       "       False, False,  True, False, False, False, False, False, False,\n",
       "       False, False, False, False, False, False, False, False, False,\n",
       "       False, False, False, False, False, False, False, False, False,\n",
       "       False, False, False, False, False, False, False])>"
      ]
     },
     "execution_count": 9,
     "metadata": {},
     "output_type": "execute_result"
    }
   ],
   "source": [
    "model(test_image)[0] == 1"
   ]
  },
  {
   "cell_type": "code",
   "execution_count": 10,
   "id": "1cca3048-e0f2-4a6f-a7d6-a3801da94fd8",
   "metadata": {},
   "outputs": [
    {
     "data": {
      "text/plain": [
       "<tf.Tensor: shape=(), dtype=bool, numpy=True>"
      ]
     },
     "execution_count": 10,
     "metadata": {},
     "output_type": "execute_result"
    }
   ],
   "source": [
    "tf.reduce_any(tf.equal(model(test_image), 1))"
   ]
  },
  {
   "cell_type": "markdown",
   "id": "5d92c9c8-a766-4b50-ab5c-ecbc4cad4bc0",
   "metadata": {
    "id": "196YXk9FfFp8"
   },
   "source": [
    "# Detector de senales de trafico con Keras"
   ]
  },
  {
   "cell_type": "code",
   "execution_count": 11,
   "id": "353b8504-de48-49cb-bb18-2e5138f036d5",
   "metadata": {},
   "outputs": [],
   "source": [
    "classes = { \n",
    "    0:'Speed limit (20km/h)',\n",
    "    1:'Speed limit (30km/h)', \n",
    "    2:'Speed limit (50km/h)', \n",
    "    3:'Speed limit (60km/h)', \n",
    "    4:'Speed limit (70km/h)', \n",
    "    5:'Speed limit (80km/h)', \n",
    "    6:'End of speed limit (80km/h)', \n",
    "    7:'Speed limit (100km/h)', \n",
    "    8:'Speed limit (120km/h)', \n",
    "    9:'No passing', \n",
    "    10:'No passing veh over 3.5 tons', \n",
    "    11:'Right-of-way at intersection', \n",
    "    12:'Priority road', \n",
    "    13:'Yield', \n",
    "    14:'Stop', \n",
    "    15:'No vehicles', \n",
    "    16:'Veh > 3.5 tons prohibited', \n",
    "    17:'No entry', \n",
    "    18:'General caution', \n",
    "    19:'Dangerous curve left', \n",
    "    20:'Dangerous curve right', \n",
    "    21:'Double curve', \n",
    "    22:'Bumpy road', \n",
    "    23:'Slippery road', \n",
    "    24:'Road narrows on the right', \n",
    "    25:'Road work', \n",
    "    26:'Traffic signals', \n",
    "    27:'Pedestrians', \n",
    "    28:'Children crossing', \n",
    "    29:'Bicycles crossing', \n",
    "    30:'Beware of ice/snow',\n",
    "    31:'Wild animals crossing', \n",
    "    32:'End speed + passing limits', \n",
    "    33:'Turn right ahead', \n",
    "    34:'Turn left ahead', \n",
    "    35:'Ahead only', \n",
    "    36:'Go straight or right', \n",
    "    37:'Go straight or left', \n",
    "    38:'Keep right', \n",
    "    39:'Keep left', \n",
    "    40:'Roundabout mandatory', \n",
    "    41:'End of no passing', \n",
    "    42:'End no passing veh > 3.5 tons'\n",
    "}"
   ]
  },
  {
   "cell_type": "code",
   "execution_count": 12,
   "id": "c2417e8c-baac-4cfb-9eaf-063147c74726",
   "metadata": {
    "id": "Ci_Ve69QZqKF"
   },
   "outputs": [],
   "source": [
    "import cv2\n",
    "import numpy as np\n",
    "from skimage.feature import hog\n",
    "from tqdm import tqdm\n",
    "from PIL import Image\n",
    "import tensorflow as tf\n",
    "\n",
    "class TrafficSignDetector:\n",
    "    def __init__(self, model):\n",
    "        self.model = model\n",
    "\n",
    "    def process_frame(self, img):\n",
    "        # Define parameters for sliding window\n",
    "        window_size = (50, 50)  # Size of the sliding window\n",
    "        step_size = 14  # Step size of the sliding window\n",
    "\n",
    "        # Calculate the starting y-coordinate for the sliding window\n",
    "        start_y = img.shape[0] // 2 - 50\n",
    "        end_y = int(img.shape[0] * 0.75)\n",
    "\n",
    "        # Define a function to resize and normalize an image\n",
    "        def preprocess_image(image):\n",
    "            image = tf.image.resize(image, (28, 28))\n",
    "            image = tf.cast(image, tf.float32)\n",
    "            image = image/255\n",
    "            return image\n",
    "\n",
    "        # Slide the window over the image\n",
    "        for y in range(50, end_y, step_size):\n",
    "            for x in range(0, img.shape[1], step_size):\n",
    "                # Extract the region of interest\n",
    "                roi = img[y:y + window_size[1], x:x + window_size[0]]\n",
    "\n",
    "                # Skip if the region of interest is not the same size as the window\n",
    "                if roi.shape[0] != window_size[1] or roi.shape[1] != window_size[0]:\n",
    "                    continue\n",
    "                roi_pil = Image.fromarray(cv2.cvtColor(roi, cv2.COLOR_BGR2RGB))\n",
    "\n",
    "                # Convert the region of interest to a TensorFlow tensor and normalize\n",
    "                roi_tensor = preprocess_image(np.array(roi_pil))\n",
    "                roi_tensor = tf.expand_dims(roi_tensor, axis=0)\n",
    "\n",
    "                # Predict whether the region of interest contains a pedestrian\n",
    "                self.prediction = self.model.predict(roi_tensor)\n",
    "                self.trafic_class = classes.get(np.argmax(self.prediction))\n",
    "                \n",
    "                # If a pedestrian is detected, draw a rectangle around the region of interest\n",
    "                if tf.reduce_any(tf.greater_equal(self.prediction, 1)):\n",
    "                    cv2.rectangle(img, (x, y), (x + window_size[0], y + window_size[1]), (0, 255, 0), 2)\n",
    "                    cv2.putText(img, self.trafic_class, (x, y-10), cv2.FONT_HERSHEY_SIMPLEX, 0.9, (0,255,0), 2)\n",
    "                    #print('Traficsignal')\n",
    "\n",
    "\n",
    "        return img\n",
    "\n",
    "    def process_video(self, input_video_path, output_video_path, fracction_to_process=0.1):\n",
    "        frame_set_no=144\n",
    "        cap = cv2.VideoCapture(input_video_path)\n",
    "        cap.set(cv2.CAP_PROP_POS_FRAMES, frame_set_no)\n",
    "        \n",
    "        width = int(cap.get(cv2.CAP_PROP_FRAME_WIDTH))\n",
    "        height = int(cap.get(cv2.CAP_PROP_FRAME_HEIGHT))\n",
    "        fps = int(cap.get(cv2.CAP_PROP_FPS))\n",
    "        total_frames = int(cap.get(cv2.CAP_PROP_FRAME_COUNT))\n",
    "\n",
    "        # Calculate the number of frames to process (100% of total frames)\n",
    "        num_frames_to_process = int(total_frames * fracction_to_process)\n",
    "\n",
    "        fourcc = cv2.VideoWriter_fourcc(*'mp4v')\n",
    "        out = cv2.VideoWriter(output_video_path, fourcc, fps, (width, height))\n",
    "\n",
    "        pbar = tqdm(total=num_frames_to_process, ncols=80, bar_format='{l_bar}{bar}| {n_fmt}/{total_fmt}',\n",
    "                    position=0, leave=True)\n",
    "\n",
    "        frame_count = 0\n",
    "\n",
    "        while cap.isOpened():\n",
    "            ret, frame = cap.read()\n",
    "            if ret:\n",
    "                result_frame = self.process_frame(frame)\n",
    "                out.write(result_frame)\n",
    "                #cv2.imshow('Processed Frame', result_frame)\n",
    "\n",
    "                pbar.update(1)\n",
    "                frame_count += 1\n",
    "\n",
    "                if frame_count >= num_frames_to_process:\n",
    "                    break\n",
    "\n",
    "                #if cv2.waitKey(1) & 0xFF == ord('q'):\n",
    "                #    break\n",
    "            else:\n",
    "                break\n",
    "\n",
    "        pbar.close()\n",
    "\n",
    "        cap.release()\n",
    "        out.release()\n",
    "        #cv2.destroyAllWindows()"
   ]
  },
  {
   "cell_type": "code",
   "execution_count": 13,
   "id": "2d91411c-1a50-483d-9431-80eb7aa8559e",
   "metadata": {},
   "outputs": [],
   "source": [
    "input_video_path = 'road_trip_edt.mp4'\n",
    "output_video_path = 'road_trip_process_cnn-Keras.mp4'"
   ]
  },
  {
   "cell_type": "code",
   "execution_count": 14,
   "id": "30a77d8e-ab02-46b2-b214-d9a7c160a847",
   "metadata": {},
   "outputs": [
    {
     "name": "stderr",
     "output_type": "stream",
     "text": [
      "  0%|                                                                    | 0/219"
     ]
    },
    {
     "name": "stdout",
     "output_type": "stream",
     "text": [
      "1/1 [==============================] - 0s 303ms/step\n",
      "1/1 [==============================] - 0s 15ms/step\n",
      "1/1 [==============================] - 0s 18ms/step\n",
      "1/1 [==============================] - 0s 16ms/step\n",
      "1/1 [==============================] - 0s 15ms/step\n",
      "1/1 [==============================] - 0s 16ms/step\n",
      "1/1 [==============================] - 0s 16ms/step\n",
      "1/1 [==============================] - 0s 15ms/step\n",
      "1/1 [==============================] - 0s 17ms/step\n",
      "1/1 [==============================] - 0s 17ms/step\n",
      "1/1 [==============================] - 0s 16ms/step\n",
      "1/1 [==============================] - 0s 16ms/step\n",
      "1/1 [==============================] - 0s 16ms/step\n",
      "1/1 [==============================] - 0s 16ms/step\n",
      "1/1 [==============================] - 0s 17ms/step\n",
      "1/1 [==============================] - 0s 18ms/step\n",
      "1/1 [==============================] - 0s 17ms/step\n",
      "1/1 [==============================] - 0s 17ms/step\n",
      "1/1 [==============================] - 0s 17ms/step\n",
      "1/1 [==============================] - 0s 16ms/step\n",
      "1/1 [==============================] - 0s 18ms/step\n",
      "1/1 [==============================] - 0s 16ms/step\n",
      "1/1 [==============================] - 0s 17ms/step\n",
      "1/1 [==============================] - 0s 15ms/step\n",
      "1/1 [==============================] - 0s 16ms/step\n",
      "1/1 [==============================] - 0s 16ms/step\n",
      "1/1 [==============================] - 0s 18ms/step\n",
      "1/1 [==============================] - 0s 17ms/step\n",
      "1/1 [==============================] - 0s 16ms/step\n",
      "1/1 [==============================] - 0s 17ms/step\n",
      "1/1 [==============================] - 0s 18ms/step\n",
      "1/1 [==============================] - 0s 17ms/step\n",
      "1/1 [==============================] - 0s 17ms/step\n",
      "1/1 [==============================] - 0s 16ms/step\n",
      "1/1 [==============================] - 0s 16ms/step\n",
      "1/1 [==============================] - 0s 16ms/step\n",
      "1/1 [==============================] - 0s 16ms/step\n",
      "1/1 [==============================] - 0s 16ms/step\n",
      "1/1 [==============================] - 0s 17ms/step\n",
      "1/1 [==============================] - 0s 18ms/step\n",
      "1/1 [==============================] - 0s 17ms/step\n",
      "1/1 [==============================] - 0s 16ms/step\n",
      "1/1 [==============================] - 0s 16ms/step\n",
      "1/1 [==============================] - 0s 17ms/step\n",
      "1/1 [==============================] - 0s 19ms/step\n",
      "1/1 [==============================] - 0s 18ms/step\n",
      "1/1 [==============================] - 0s 20ms/step\n",
      "1/1 [==============================] - 0s 19ms/step\n",
      "1/1 [==============================] - 0s 18ms/step\n",
      "1/1 [==============================] - 0s 17ms/step\n"
     ]
    },
    {
     "ename": "KeyboardInterrupt",
     "evalue": "",
     "output_type": "error",
     "traceback": [
      "\u001b[1;31m---------------------------------------------------------------------------\u001b[0m",
      "\u001b[1;31mKeyboardInterrupt\u001b[0m                         Traceback (most recent call last)",
      "File \u001b[1;32m<timed exec>:5\u001b[0m\n",
      "Cell \u001b[1;32mIn[12], line 80\u001b[0m, in \u001b[0;36mTrafficSignDetector.process_video\u001b[1;34m(self, input_video_path, output_video_path, fracction_to_process)\u001b[0m\n\u001b[0;32m     78\u001b[0m ret, frame \u001b[38;5;241m=\u001b[39m cap\u001b[38;5;241m.\u001b[39mread()\n\u001b[0;32m     79\u001b[0m \u001b[38;5;28;01mif\u001b[39;00m ret:\n\u001b[1;32m---> 80\u001b[0m     result_frame \u001b[38;5;241m=\u001b[39m \u001b[38;5;28;43mself\u001b[39;49m\u001b[38;5;241;43m.\u001b[39;49m\u001b[43mprocess_frame\u001b[49m\u001b[43m(\u001b[49m\u001b[43mframe\u001b[49m\u001b[43m)\u001b[49m\n\u001b[0;32m     81\u001b[0m     out\u001b[38;5;241m.\u001b[39mwrite(result_frame)\n\u001b[0;32m     82\u001b[0m     \u001b[38;5;66;03m#cv2.imshow('Processed Frame', result_frame)\u001b[39;00m\n",
      "Cell \u001b[1;32mIn[12], line 44\u001b[0m, in \u001b[0;36mTrafficSignDetector.process_frame\u001b[1;34m(self, img)\u001b[0m\n\u001b[0;32m     41\u001b[0m roi_tensor \u001b[38;5;241m=\u001b[39m tf\u001b[38;5;241m.\u001b[39mexpand_dims(roi_tensor, axis\u001b[38;5;241m=\u001b[39m\u001b[38;5;241m0\u001b[39m)\n\u001b[0;32m     43\u001b[0m \u001b[38;5;66;03m# Predict whether the region of interest contains a pedestrian\u001b[39;00m\n\u001b[1;32m---> 44\u001b[0m \u001b[38;5;28mself\u001b[39m\u001b[38;5;241m.\u001b[39mprediction \u001b[38;5;241m=\u001b[39m \u001b[38;5;28;43mself\u001b[39;49m\u001b[38;5;241;43m.\u001b[39;49m\u001b[43mmodel\u001b[49m\u001b[38;5;241;43m.\u001b[39;49m\u001b[43mpredict\u001b[49m\u001b[43m(\u001b[49m\u001b[43mroi_tensor\u001b[49m\u001b[43m)\u001b[49m\n\u001b[0;32m     45\u001b[0m \u001b[38;5;28mself\u001b[39m\u001b[38;5;241m.\u001b[39mtrafic_class \u001b[38;5;241m=\u001b[39m classes\u001b[38;5;241m.\u001b[39mget(np\u001b[38;5;241m.\u001b[39margmax(\u001b[38;5;28mself\u001b[39m\u001b[38;5;241m.\u001b[39mprediction))\n\u001b[0;32m     47\u001b[0m \u001b[38;5;66;03m# If a pedestrian is detected, draw a rectangle around the region of interest\u001b[39;00m\n",
      "File \u001b[1;32m~\\Anaconda3\\envs\\mna\\lib\\site-packages\\keras\\utils\\traceback_utils.py:65\u001b[0m, in \u001b[0;36mfilter_traceback.<locals>.error_handler\u001b[1;34m(*args, **kwargs)\u001b[0m\n\u001b[0;32m     63\u001b[0m filtered_tb \u001b[38;5;241m=\u001b[39m \u001b[38;5;28;01mNone\u001b[39;00m\n\u001b[0;32m     64\u001b[0m \u001b[38;5;28;01mtry\u001b[39;00m:\n\u001b[1;32m---> 65\u001b[0m     \u001b[38;5;28;01mreturn\u001b[39;00m fn(\u001b[38;5;241m*\u001b[39margs, \u001b[38;5;241m*\u001b[39m\u001b[38;5;241m*\u001b[39mkwargs)\n\u001b[0;32m     66\u001b[0m \u001b[38;5;28;01mexcept\u001b[39;00m \u001b[38;5;167;01mException\u001b[39;00m \u001b[38;5;28;01mas\u001b[39;00m e:\n\u001b[0;32m     67\u001b[0m     filtered_tb \u001b[38;5;241m=\u001b[39m _process_traceback_frames(e\u001b[38;5;241m.\u001b[39m__traceback__)\n",
      "File \u001b[1;32m~\\Anaconda3\\envs\\mna\\lib\\site-packages\\keras\\engine\\training.py:2249\u001b[0m, in \u001b[0;36mModel.predict\u001b[1;34m(self, x, batch_size, verbose, steps, callbacks, max_queue_size, workers, use_multiprocessing)\u001b[0m\n\u001b[0;32m   2247\u001b[0m callbacks\u001b[38;5;241m.\u001b[39mon_predict_begin()\n\u001b[0;32m   2248\u001b[0m batch_outputs \u001b[38;5;241m=\u001b[39m \u001b[38;5;28;01mNone\u001b[39;00m\n\u001b[1;32m-> 2249\u001b[0m \u001b[38;5;28;01mfor\u001b[39;00m _, iterator \u001b[38;5;129;01min\u001b[39;00m data_handler\u001b[38;5;241m.\u001b[39menumerate_epochs():  \u001b[38;5;66;03m# Single epoch.\u001b[39;00m\n\u001b[0;32m   2250\u001b[0m     \u001b[38;5;28;01mwith\u001b[39;00m data_handler\u001b[38;5;241m.\u001b[39mcatch_stop_iteration():\n\u001b[0;32m   2251\u001b[0m         \u001b[38;5;28;01mfor\u001b[39;00m step \u001b[38;5;129;01min\u001b[39;00m data_handler\u001b[38;5;241m.\u001b[39msteps():\n",
      "File \u001b[1;32m~\\Anaconda3\\envs\\mna\\lib\\site-packages\\keras\\engine\\data_adapter.py:1307\u001b[0m, in \u001b[0;36mDataHandler.enumerate_epochs\u001b[1;34m(self)\u001b[0m\n\u001b[0;32m   1305\u001b[0m \u001b[38;5;250m\u001b[39m\u001b[38;5;124;03m\"\"\"Yields `(epoch, tf.data.Iterator)`.\"\"\"\u001b[39;00m\n\u001b[0;32m   1306\u001b[0m \u001b[38;5;28;01mwith\u001b[39;00m \u001b[38;5;28mself\u001b[39m\u001b[38;5;241m.\u001b[39m_truncate_execution_to_epoch():\n\u001b[1;32m-> 1307\u001b[0m     data_iterator \u001b[38;5;241m=\u001b[39m \u001b[38;5;28;43miter\u001b[39;49m\u001b[43m(\u001b[49m\u001b[38;5;28;43mself\u001b[39;49m\u001b[38;5;241;43m.\u001b[39;49m\u001b[43m_dataset\u001b[49m\u001b[43m)\u001b[49m\n\u001b[0;32m   1308\u001b[0m     \u001b[38;5;28;01mfor\u001b[39;00m epoch \u001b[38;5;129;01min\u001b[39;00m \u001b[38;5;28mrange\u001b[39m(\u001b[38;5;28mself\u001b[39m\u001b[38;5;241m.\u001b[39m_initial_epoch, \u001b[38;5;28mself\u001b[39m\u001b[38;5;241m.\u001b[39m_epochs):\n\u001b[0;32m   1309\u001b[0m         \u001b[38;5;28;01mif\u001b[39;00m \u001b[38;5;28mself\u001b[39m\u001b[38;5;241m.\u001b[39m_insufficient_data:  \u001b[38;5;66;03m# Set by `catch_stop_iteration`.\u001b[39;00m\n",
      "File \u001b[1;32m~\\Anaconda3\\envs\\mna\\lib\\site-packages\\tensorflow\\python\\data\\ops\\dataset_ops.py:499\u001b[0m, in \u001b[0;36mDatasetV2.__iter__\u001b[1;34m(self)\u001b[0m\n\u001b[0;32m    497\u001b[0m \u001b[38;5;28;01mif\u001b[39;00m context\u001b[38;5;241m.\u001b[39mexecuting_eagerly() \u001b[38;5;129;01mor\u001b[39;00m ops\u001b[38;5;241m.\u001b[39minside_function():\n\u001b[0;32m    498\u001b[0m   \u001b[38;5;28;01mwith\u001b[39;00m ops\u001b[38;5;241m.\u001b[39mcolocate_with(\u001b[38;5;28mself\u001b[39m\u001b[38;5;241m.\u001b[39m_variant_tensor):\n\u001b[1;32m--> 499\u001b[0m     \u001b[38;5;28;01mreturn\u001b[39;00m \u001b[43miterator_ops\u001b[49m\u001b[38;5;241;43m.\u001b[39;49m\u001b[43mOwnedIterator\u001b[49m\u001b[43m(\u001b[49m\u001b[38;5;28;43mself\u001b[39;49m\u001b[43m)\u001b[49m\n\u001b[0;32m    500\u001b[0m \u001b[38;5;28;01melse\u001b[39;00m:\n\u001b[0;32m    501\u001b[0m   \u001b[38;5;28;01mraise\u001b[39;00m \u001b[38;5;167;01mRuntimeError\u001b[39;00m(\u001b[38;5;124m\"\u001b[39m\u001b[38;5;124m`tf.data.Dataset` only supports Python-style \u001b[39m\u001b[38;5;124m\"\u001b[39m\n\u001b[0;32m    502\u001b[0m                      \u001b[38;5;124m\"\u001b[39m\u001b[38;5;124miteration in eager mode or within tf.function.\u001b[39m\u001b[38;5;124m\"\u001b[39m)\n",
      "File \u001b[1;32m~\\Anaconda3\\envs\\mna\\lib\\site-packages\\tensorflow\\python\\data\\ops\\iterator_ops.py:696\u001b[0m, in \u001b[0;36mOwnedIterator.__init__\u001b[1;34m(self, dataset, components, element_spec)\u001b[0m\n\u001b[0;32m    692\u001b[0m   \u001b[38;5;28;01mif\u001b[39;00m (components \u001b[38;5;129;01mis\u001b[39;00m \u001b[38;5;129;01mnot\u001b[39;00m \u001b[38;5;28;01mNone\u001b[39;00m \u001b[38;5;129;01mor\u001b[39;00m element_spec \u001b[38;5;129;01mis\u001b[39;00m \u001b[38;5;129;01mnot\u001b[39;00m \u001b[38;5;28;01mNone\u001b[39;00m):\n\u001b[0;32m    693\u001b[0m     \u001b[38;5;28;01mraise\u001b[39;00m \u001b[38;5;167;01mValueError\u001b[39;00m(\n\u001b[0;32m    694\u001b[0m         \u001b[38;5;124m\"\u001b[39m\u001b[38;5;124mWhen `dataset` is provided, `element_spec` and `components` must \u001b[39m\u001b[38;5;124m\"\u001b[39m\n\u001b[0;32m    695\u001b[0m         \u001b[38;5;124m\"\u001b[39m\u001b[38;5;124mnot be specified.\u001b[39m\u001b[38;5;124m\"\u001b[39m)\n\u001b[1;32m--> 696\u001b[0m   \u001b[38;5;28;43mself\u001b[39;49m\u001b[38;5;241;43m.\u001b[39;49m\u001b[43m_create_iterator\u001b[49m\u001b[43m(\u001b[49m\u001b[43mdataset\u001b[49m\u001b[43m)\u001b[49m\n\u001b[0;32m    698\u001b[0m \u001b[38;5;28mself\u001b[39m\u001b[38;5;241m.\u001b[39m_get_next_call_count \u001b[38;5;241m=\u001b[39m \u001b[38;5;241m0\u001b[39m\n",
      "File \u001b[1;32m~\\Anaconda3\\envs\\mna\\lib\\site-packages\\tensorflow\\python\\data\\ops\\iterator_ops.py:721\u001b[0m, in \u001b[0;36mOwnedIterator._create_iterator\u001b[1;34m(self, dataset)\u001b[0m\n\u001b[0;32m    716\u001b[0m \u001b[38;5;28;01mwith\u001b[39;00m ops\u001b[38;5;241m.\u001b[39mcolocate_with(ds_variant):\n\u001b[0;32m    717\u001b[0m   \u001b[38;5;28mself\u001b[39m\u001b[38;5;241m.\u001b[39m_iterator_resource \u001b[38;5;241m=\u001b[39m (\n\u001b[0;32m    718\u001b[0m       gen_dataset_ops\u001b[38;5;241m.\u001b[39manonymous_iterator_v3(\n\u001b[0;32m    719\u001b[0m           output_types\u001b[38;5;241m=\u001b[39m\u001b[38;5;28mself\u001b[39m\u001b[38;5;241m.\u001b[39m_flat_output_types,\n\u001b[0;32m    720\u001b[0m           output_shapes\u001b[38;5;241m=\u001b[39m\u001b[38;5;28mself\u001b[39m\u001b[38;5;241m.\u001b[39m_flat_output_shapes))\n\u001b[1;32m--> 721\u001b[0m   \u001b[43mgen_dataset_ops\u001b[49m\u001b[38;5;241;43m.\u001b[39;49m\u001b[43mmake_iterator\u001b[49m\u001b[43m(\u001b[49m\u001b[43mds_variant\u001b[49m\u001b[43m,\u001b[49m\u001b[43m \u001b[49m\u001b[38;5;28;43mself\u001b[39;49m\u001b[38;5;241;43m.\u001b[39;49m\u001b[43m_iterator_resource\u001b[49m\u001b[43m)\u001b[49m\n",
      "File \u001b[1;32m~\\Anaconda3\\envs\\mna\\lib\\site-packages\\tensorflow\\python\\ops\\gen_dataset_ops.py:3408\u001b[0m, in \u001b[0;36mmake_iterator\u001b[1;34m(dataset, iterator, name)\u001b[0m\n\u001b[0;32m   3406\u001b[0m \u001b[38;5;28;01mif\u001b[39;00m tld\u001b[38;5;241m.\u001b[39mis_eager:\n\u001b[0;32m   3407\u001b[0m   \u001b[38;5;28;01mtry\u001b[39;00m:\n\u001b[1;32m-> 3408\u001b[0m     _result \u001b[38;5;241m=\u001b[39m \u001b[43mpywrap_tfe\u001b[49m\u001b[38;5;241;43m.\u001b[39;49m\u001b[43mTFE_Py_FastPathExecute\u001b[49m\u001b[43m(\u001b[49m\n\u001b[0;32m   3409\u001b[0m \u001b[43m      \u001b[49m\u001b[43m_ctx\u001b[49m\u001b[43m,\u001b[49m\u001b[43m \u001b[49m\u001b[38;5;124;43m\"\u001b[39;49m\u001b[38;5;124;43mMakeIterator\u001b[39;49m\u001b[38;5;124;43m\"\u001b[39;49m\u001b[43m,\u001b[49m\u001b[43m \u001b[49m\u001b[43mname\u001b[49m\u001b[43m,\u001b[49m\u001b[43m \u001b[49m\u001b[43mdataset\u001b[49m\u001b[43m,\u001b[49m\u001b[43m \u001b[49m\u001b[43miterator\u001b[49m\u001b[43m)\u001b[49m\n\u001b[0;32m   3410\u001b[0m     \u001b[38;5;28;01mreturn\u001b[39;00m _result\n\u001b[0;32m   3411\u001b[0m   \u001b[38;5;28;01mexcept\u001b[39;00m _core\u001b[38;5;241m.\u001b[39m_NotOkStatusException \u001b[38;5;28;01mas\u001b[39;00m e:\n",
      "\u001b[1;31mKeyboardInterrupt\u001b[0m: "
     ]
    }
   ],
   "source": [
    "%%time\n",
    "# Crear una instancia de PedestrianDetector con svc_model como el modelo a usar\n",
    "traffic_sign_detector = TrafficSignDetector(model)\n",
    "\n",
    "# Procesar el archivo de vídeo de entrada y guardar el archivo de vídeo de salida usando el método process_video\n",
    "traffic_sign_detector.process_video(input_video_path, output_video_path, fracction_to_process=0.02)"
   ]
  },
  {
   "cell_type": "markdown",
   "id": "16aaf9fa-b32e-4b33-a0db-ded0ff9f4d6f",
   "metadata": {},
   "source": [
    "# Torch"
   ]
  },
  {
   "cell_type": "code",
   "execution_count": null,
   "id": "ad495ad9-3a20-42d7-b471-fa9dd1c5f1d5",
   "metadata": {},
   "outputs": [],
   "source": []
  }
 ],
 "metadata": {
  "kernelspec": {
   "display_name": "Python 3 (ipykernel)",
   "language": "python",
   "name": "python3"
  },
  "language_info": {
   "codemirror_mode": {
    "name": "ipython",
    "version": 3
   },
   "file_extension": ".py",
   "mimetype": "text/x-python",
   "name": "python",
   "nbconvert_exporter": "python",
   "pygments_lexer": "ipython3",
   "version": "3.9.16"
  }
 },
 "nbformat": 4,
 "nbformat_minor": 5
}
