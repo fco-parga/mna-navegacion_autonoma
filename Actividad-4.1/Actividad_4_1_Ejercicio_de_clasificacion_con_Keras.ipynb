{
  "nbformat": 4,
  "nbformat_minor": 0,
  "metadata": {
    "colab": {
      "provenance": [],
      "gpuType": "T4",
      "authorship_tag": "ABX9TyMU/sPDKck7sI08KSxWG/r1",
      "include_colab_link": true
    },
    "kernelspec": {
      "name": "python3",
      "display_name": "Python 3"
    },
    "language_info": {
      "name": "python"
    },
    "accelerator": "GPU"
  },
  "cells": [
    {
      "cell_type": "markdown",
      "metadata": {
        "id": "view-in-github",
        "colab_type": "text"
      },
      "source": [
        "<a href=\"https://colab.research.google.com/github/fco-parga/mna-navegacion_autonoma/blob/main/Actividad-4.1/Actividad_4_1_Ejercicio_de_clasificacion_con_Keras.ipynb\" target=\"_parent\"><img src=\"https://colab.research.google.com/assets/colab-badge.svg\" alt=\"Open In Colab\"/></a>"
      ]
    },
    {
      "cell_type": "markdown",
      "source": [
        "![image.png](data:image/png;base64,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)"
      ],
      "metadata": {
        "id": "E7e8BF89uuHp"
      }
    },
    {
      "cell_type": "markdown",
      "source": [
        "# **Maestría en Inteligencia Artificial Aplicada**\n",
        "## **Curso: Navegación autónoma**\n",
        "### Tecnológico de Monterrey\n",
        "###  \tDr. David Antonio Torres\n",
        "\n",
        "#### **Actividad 4.1 - Detección de Peatones con Keras**\n",
        "____\n"
      ],
      "metadata": {
        "id": "_g5-FTuP5wKZ"
      }
    },
    {
      "cell_type": "markdown",
      "source": [
        "**Nombres y matrículas de los integrantes del equipo:**\n",
        "\n",
        "*   Julio Cesar Lynn Jimenez A01793660\n",
        "*   Francisco Javier Parga García A01794380\n",
        "*   Carlos Roberto Torres Ferguson A01215432\n",
        "*   Fernando Sebastian Sanchez Cardona A01687530\n",
        "\n",
        "____"
      ],
      "metadata": {
        "id": "Uu6u6j7s55IW"
      }
    },
    {
      "cell_type": "markdown",
      "source": [
        "### Ajustes para correr en Google-Colab"
      ],
      "metadata": {
        "id": "7NHiGpKFkj3C"
      }
    },
    {
      "cell_type": "code",
      "source": [
        "from google.colab import drive\n",
        "drive.mount('/content/drive')"
      ],
      "metadata": {
        "colab": {
          "base_uri": "https://localhost:8080/"
        },
        "id": "8B8cLnlz54Rh",
        "outputId": "b2a46699-3922-4639-c40f-3930d62d4abe"
      },
      "execution_count": 1,
      "outputs": [
        {
          "output_type": "stream",
          "name": "stdout",
          "text": [
            "Drive already mounted at /content/drive; to attempt to forcibly remount, call drive.mount(\"/content/drive\", force_remount=True).\n"
          ]
        }
      ]
    },
    {
      "cell_type": "code",
      "source": [
        "# Libreria para manipular variables de sistema\n",
        "import os\n",
        "\n",
        "# Seteo del folder de inters\n",
        "os.chdir(\"/content/drive/MyDrive/Colab Notebooks/MNA/03_2023-Abril-Julio/Navegacion_Autonoma/03_Deteccion_de_Peatones_Keras\")"
      ],
      "metadata": {
        "id": "YeJDwe7rEsD2"
      },
      "execution_count": 2,
      "outputs": []
    },
    {
      "cell_type": "code",
      "source": [
        "!ls -lart ../02_Deteccion_de_Peatones/data/"
      ],
      "metadata": {
        "colab": {
          "base_uri": "https://localhost:8080/"
        },
        "id": "E19Bl5V4vGpP",
        "outputId": "ffac8535-a71e-452c-834b-c6ed4cf493a4"
      },
      "execution_count": 3,
      "outputs": [
        {
          "output_type": "stream",
          "name": "stdout",
          "text": [
            "total 1315331\n",
            "-rw------- 1 root root 1278503356 May 21 10:49 INRIAPerson.zip\n",
            "drwx------ 4 root root       4096 May 21 12:07 INRIAPerson\n",
            "-rw------- 1 root root   68390816 May 21 13:01 video_2_2.mp4\n"
          ]
        }
      ]
    },
    {
      "cell_type": "markdown",
      "source": [
        "# 0. Librerias requerias"
      ],
      "metadata": {
        "id": "KMZi3mysk16N"
      }
    },
    {
      "cell_type": "code",
      "execution_count": 4,
      "metadata": {
        "id": "2coB3bKPFfTK"
      },
      "outputs": [],
      "source": [
        "# Instalar bibliotecas requeridas\n",
        "!pip install -q scikit-image\n",
        "!pip install -q seaborn\n",
        "!pip install -q opencv-python"
      ]
    },
    {
      "cell_type": "code",
      "source": [
        "# Cargar librerias\n",
        "\n",
        "import os\n",
        "import numpy as np\n",
        "import seaborn as sns\n",
        "from PIL import Image\n",
        "import tensorflow as tf\n",
        "from keras.preprocessing.image import ImageDataGenerator\n",
        "from keras.models import Sequential\n",
        "from keras.layers import Dense, Dropout, Flatten, Conv2D, MaxPooling2D\n",
        "from keras.optimizers import Adam\n",
        "from keras.callbacks import EarlyStopping, ModelCheckpoint\n",
        "import matplotlib.pyplot as plt\n",
        "\n",
        "from matplotlib import rcParams\n",
        "rcParams['figure.figsize'] = (5,3)"
      ],
      "metadata": {
        "id": "ozfyJyqI3FqY"
      },
      "execution_count": 5,
      "outputs": []
    },
    {
      "cell_type": "code",
      "source": [
        "print(\"Num GPUs Available: \", len(tf.config.list_physical_devices('GPU')))"
      ],
      "metadata": {
        "colab": {
          "base_uri": "https://localhost:8080/"
        },
        "id": "E6h7cNUCSf53",
        "outputId": "31c4e67a-0403-4a52-a524-7cf6bdb5127f"
      },
      "execution_count": 6,
      "outputs": [
        {
          "output_type": "stream",
          "name": "stdout",
          "text": [
            "Num GPUs Available:  1\n"
          ]
        }
      ]
    },
    {
      "cell_type": "markdown",
      "source": [
        "# Deteccion de peatones con Keras"
      ],
      "metadata": {
        "id": "V8reO6dXPUFG"
      }
    },
    {
      "cell_type": "markdown",
      "source": [
        "## Generadores de datos"
      ],
      "metadata": {
        "id": "sxS9Q2G6PYnu"
      }
    },
    {
      "cell_type": "code",
      "source": [
        "# Aumento de datos con generador de imagenes\n",
        "# Data augmentation with image generator\n",
        "\n",
        "# crea un generador de datos de imágenes para los datos de entrenamiento\n",
        "# aplica algunas transformaciones para aumentar la diversidad de los datos\n",
        "train_datagen = ImageDataGenerator(\n",
        "    rescale=1./255, # normaliza los valores de los píxeles\n",
        "    shear_range=0.2, # aplica transformaciones de corte aleatorias\n",
        "    zoom_range=0.2, # aplica transformaciones de zoom aleatorias\n",
        "    horizontal_flip=True, # voltea las imágenes horizontalmente de forma aleatoria\n",
        "    validation_split=0.2 # establece el porcentaje de validación\n",
        ")\n",
        "\n",
        "# define un generador de datos de imágenes para los datos de validación y prueba\n",
        "# solo aplica el reescalado para normalizar los valores de los píxeles\n",
        "valid_test_datagen = ImageDataGenerator(rescale=1./255)\n",
        "\n",
        "# especifica el tamaño de la imagen y el tamaño del lote\n",
        "img_size = (100, 100) # tamaño reducido para menos carga computacional\n",
        "batch_size = 32 # número de imágenes por lote "
      ],
      "metadata": {
        "id": "RXePRX0aOhlt"
      },
      "execution_count": 7,
      "outputs": []
    },
    {
      "cell_type": "code",
      "source": [
        "data_path = \"../02_Deteccion_de_Peatones/data/\"\n",
        "\n",
        "# Generador para el set de entrenamiento\n",
        "train_generator = train_datagen.flow_from_directory(\n",
        "    data_path+\"INRIAPerson/Train/\",\n",
        "    target_size=img_size,\n",
        "    batch_size=batch_size,\n",
        "    classes=['pos', 'neg'], \n",
        "    class_mode='categorical',\n",
        "    subset='training'\n",
        ")\n",
        "\n",
        "# Generador para el set de validacion\n",
        "validation_generator = train_datagen.flow_from_directory(\n",
        "    data_path+\"INRIAPerson/Test/\",\n",
        "    target_size=img_size,\n",
        "    batch_size=batch_size,\n",
        "    classes=['pos', 'neg'], \n",
        "    class_mode='categorical',\n",
        "    subset='validation'\n",
        ")\n"
      ],
      "metadata": {
        "colab": {
          "base_uri": "https://localhost:8080/"
        },
        "id": "88xtPIyhPnc9",
        "outputId": "aa24d287-ad92-4dd6-a1ce-1df8254341c8"
      },
      "execution_count": 8,
      "outputs": [
        {
          "output_type": "stream",
          "name": "stdout",
          "text": [
            "Found 1467 images belonging to 2 classes.\n",
            "Found 147 images belonging to 2 classes.\n"
          ]
        }
      ]
    },
    {
      "cell_type": "markdown",
      "source": [
        "## Modelo CNN Keras"
      ],
      "metadata": {
        "id": "MBS1pfEwP-l5"
      }
    },
    {
      "cell_type": "code",
      "source": [
        "with tf.device('/gpu:0'): # forzando a TensorFlow a usar la GPU (si está disponible)\n",
        "    # Define la arquitectura del modelo\n",
        "    model = Sequential()\n",
        "    model.add(Conv2D(32, (2, 2), activation='relu', input_shape=(img_size[0], img_size[1], 3))) # añade una capa de convolución con 32 filtros de 3x3 y función de activación relu\n",
        "    model.add(MaxPooling2D(pool_size=(2, 2))) # añade una capa de agrupación máxima con un tamaño de ventana de 2x2\n",
        "    model.add(Conv2D(64, (3, 3), activation='relu')) # añade otra capa de convolución con 64 filtros de 3x3 y función de activación relu\n",
        "    model.add(MaxPooling2D(pool_size=(2, 2))) # añade otra capa de agrupación máxima con un tamaño de ventana de 2x2\n",
        "    model.add(Conv2D(128, (4, 4), activation='relu')) # añade otra capa de convolución con 128 filtros de 3x3 y función de activación relu\n",
        "    model.add(MaxPooling2D(pool_size=(2, 2))) # añade otra capa de agrupación máxima con un tamaño de ventana de 2x2\n",
        "    model.add(Flatten()) # aplana la salida de la última capa de convolución para pasarla a la capa densa\n",
        "    model.add(Dense(128, activation='relu', kernel_regularizer='l2')) # añade una capa densa con 128 unidades y función de activación relu y regularización l2\n",
        "    model.add(Dropout(0.5)) # añade una capa de abandono con una tasa de 0.5 para reducir el sobreajuste\n",
        "    model.add(Dense(64, activation='relu', kernel_regularizer='l2')) # añade una capa densa con 64 unidades y función de activación relu y regularización l2\n",
        "    model.add(Dropout(0.5)) # añade una capa de abandono con una tasa de 0.5 para reducir el sobreajuste\n",
        "    model.add(Dense(16, activation='relu', kernel_regularizer='l2')) # añade una capa densa con 16 unidades y función de activación relu y regularización l2\n",
        "    model.add(Dropout(0.5)) # añade una capa de abandono con una tasa de 0.5 para reducir el sobreajuste\n",
        "    model.add(Dense(2, activation='softmax')) # softmax para devolver la probabilidad en cada clase\n",
        "\n",
        "    # Compila el modelo\n",
        "    model.compile(loss='categorical_crossentropy',\n",
        "                  optimizer=Adam(),\n",
        "                  metrics=['accuracy'])\n",
        "\n",
        "    # Parada temprana\n",
        "    early_stop = EarlyStopping(monitor='val_loss', mode='min', verbose=1, patience=17) # define un criterio para detener el entrenamiento si la pérdida de validación no mejora después de 7 épocas\n",
        "\n",
        "    # Punto de control del modelo\n",
        "    model_checkpoint = ModelCheckpoint('keras_cnn_best_model.h5', monitor='val_accuracy', mode='max', verbose=1, save_best_only=True) # define un criterio para guardar el mejor modelo según la precisión de validación\n"
      ],
      "metadata": {
        "id": "Cf3zkeyJP36M"
      },
      "execution_count": 10,
      "outputs": []
    },
    {
      "cell_type": "code",
      "source": [
        "#Visualizar el resumen del modelo\n",
        "model.summary()"
      ],
      "metadata": {
        "colab": {
          "base_uri": "https://localhost:8080/"
        },
        "id": "NzXNzd_kQEkw",
        "outputId": "60ad73a9-00c2-4dd5-813b-647704b64da9"
      },
      "execution_count": 11,
      "outputs": [
        {
          "output_type": "stream",
          "name": "stdout",
          "text": [
            "Model: \"sequential_1\"\n",
            "_________________________________________________________________\n",
            " Layer (type)                Output Shape              Param #   \n",
            "=================================================================\n",
            " conv2d_3 (Conv2D)           (None, 99, 99, 32)        416       \n",
            "                                                                 \n",
            " max_pooling2d_3 (MaxPooling  (None, 49, 49, 32)       0         \n",
            " 2D)                                                             \n",
            "                                                                 \n",
            " conv2d_4 (Conv2D)           (None, 47, 47, 64)        18496     \n",
            "                                                                 \n",
            " max_pooling2d_4 (MaxPooling  (None, 23, 23, 64)       0         \n",
            " 2D)                                                             \n",
            "                                                                 \n",
            " conv2d_5 (Conv2D)           (None, 20, 20, 128)       131200    \n",
            "                                                                 \n",
            " max_pooling2d_5 (MaxPooling  (None, 10, 10, 128)      0         \n",
            " 2D)                                                             \n",
            "                                                                 \n",
            " flatten_1 (Flatten)         (None, 12800)             0         \n",
            "                                                                 \n",
            " dense_4 (Dense)             (None, 128)               1638528   \n",
            "                                                                 \n",
            " dropout_3 (Dropout)         (None, 128)               0         \n",
            "                                                                 \n",
            " dense_5 (Dense)             (None, 64)                8256      \n",
            "                                                                 \n",
            " dropout_4 (Dropout)         (None, 64)                0         \n",
            "                                                                 \n",
            " dense_6 (Dense)             (None, 16)                1040      \n",
            "                                                                 \n",
            " dropout_5 (Dropout)         (None, 16)                0         \n",
            "                                                                 \n",
            " dense_7 (Dense)             (None, 2)                 34        \n",
            "                                                                 \n",
            "=================================================================\n",
            "Total params: 1,797,970\n",
            "Trainable params: 1,797,970\n",
            "Non-trainable params: 0\n",
            "_________________________________________________________________\n"
          ]
        }
      ]
    },
    {
      "cell_type": "code",
      "source": [
        "%%time\n",
        "\n",
        "history = model.fit(\n",
        "    train_generator,\n",
        "    steps_per_epoch=len(train_generator),\n",
        "    epochs=101, \n",
        "    validation_data=validation_generator,\n",
        "    validation_steps=len(validation_generator),\n",
        "    callbacks=[early_stop, model_checkpoint]\n",
        ")"
      ],
      "metadata": {
        "colab": {
          "base_uri": "https://localhost:8080/"
        },
        "id": "9FvgvNFiQJs5",
        "outputId": "a7af2c6c-3a63-487d-d0de-d23fab43afe8"
      },
      "execution_count": 12,
      "outputs": [
        {
          "output_type": "stream",
          "name": "stdout",
          "text": [
            "Epoch 1/101\n",
            "46/46 [==============================] - ETA: 0s - loss: 1.9895 - accuracy: 0.6353\n",
            "Epoch 1: val_accuracy improved from -inf to 0.61224, saving model to keras_cnn_best_model.h5\n",
            "46/46 [==============================] - 31s 602ms/step - loss: 1.9895 - accuracy: 0.6353 - val_loss: 1.2967 - val_accuracy: 0.6122\n",
            "Epoch 2/101\n",
            "46/46 [==============================] - ETA: 0s - loss: 1.1049 - accuracy: 0.6694\n",
            "Epoch 2: val_accuracy improved from 0.61224 to 0.63946, saving model to keras_cnn_best_model.h5\n",
            "46/46 [==============================] - 27s 582ms/step - loss: 1.1049 - accuracy: 0.6694 - val_loss: 0.9038 - val_accuracy: 0.6395\n",
            "Epoch 3/101\n",
            "46/46 [==============================] - ETA: 0s - loss: 0.8868 - accuracy: 0.7130\n",
            "Epoch 3: val_accuracy improved from 0.63946 to 0.83673, saving model to keras_cnn_best_model.h5\n",
            "46/46 [==============================] - 31s 672ms/step - loss: 0.8868 - accuracy: 0.7130 - val_loss: 0.7131 - val_accuracy: 0.8367\n",
            "Epoch 4/101\n",
            "46/46 [==============================] - ETA: 0s - loss: 0.7633 - accuracy: 0.7389\n",
            "Epoch 4: val_accuracy did not improve from 0.83673\n",
            "46/46 [==============================] - 26s 563ms/step - loss: 0.7633 - accuracy: 0.7389 - val_loss: 0.6140 - val_accuracy: 0.8163\n",
            "Epoch 5/101\n",
            "46/46 [==============================] - ETA: 0s - loss: 0.6820 - accuracy: 0.7730\n",
            "Epoch 5: val_accuracy did not improve from 0.83673\n",
            "46/46 [==============================] - 26s 555ms/step - loss: 0.6820 - accuracy: 0.7730 - val_loss: 0.5828 - val_accuracy: 0.8299\n",
            "Epoch 6/101\n",
            "46/46 [==============================] - ETA: 0s - loss: 0.6637 - accuracy: 0.7778\n",
            "Epoch 6: val_accuracy did not improve from 0.83673\n",
            "46/46 [==============================] - 25s 540ms/step - loss: 0.6637 - accuracy: 0.7778 - val_loss: 0.5885 - val_accuracy: 0.8367\n",
            "Epoch 7/101\n",
            "46/46 [==============================] - ETA: 0s - loss: 0.6164 - accuracy: 0.7853\n",
            "Epoch 7: val_accuracy improved from 0.83673 to 0.84354, saving model to keras_cnn_best_model.h5\n",
            "46/46 [==============================] - 27s 581ms/step - loss: 0.6164 - accuracy: 0.7853 - val_loss: 0.5285 - val_accuracy: 0.8435\n",
            "Epoch 8/101\n",
            "46/46 [==============================] - ETA: 0s - loss: 0.5812 - accuracy: 0.7955\n",
            "Epoch 8: val_accuracy did not improve from 0.84354\n",
            "46/46 [==============================] - 26s 561ms/step - loss: 0.5812 - accuracy: 0.7955 - val_loss: 0.5553 - val_accuracy: 0.7687\n",
            "Epoch 9/101\n",
            "46/46 [==============================] - ETA: 0s - loss: 0.5625 - accuracy: 0.7955\n",
            "Epoch 9: val_accuracy did not improve from 0.84354\n",
            "46/46 [==============================] - 26s 557ms/step - loss: 0.5625 - accuracy: 0.7955 - val_loss: 0.4756 - val_accuracy: 0.8231\n",
            "Epoch 10/101\n",
            "46/46 [==============================] - ETA: 0s - loss: 0.5153 - accuracy: 0.8248\n",
            "Epoch 10: val_accuracy did not improve from 0.84354\n",
            "46/46 [==============================] - 26s 561ms/step - loss: 0.5153 - accuracy: 0.8248 - val_loss: 0.5023 - val_accuracy: 0.8367\n",
            "Epoch 11/101\n",
            "46/46 [==============================] - ETA: 0s - loss: 0.5408 - accuracy: 0.8200\n",
            "Epoch 11: val_accuracy did not improve from 0.84354\n",
            "46/46 [==============================] - 26s 559ms/step - loss: 0.5408 - accuracy: 0.8200 - val_loss: 0.4772 - val_accuracy: 0.8231\n",
            "Epoch 12/101\n",
            "46/46 [==============================] - ETA: 0s - loss: 0.4860 - accuracy: 0.8378\n",
            "Epoch 12: val_accuracy improved from 0.84354 to 0.92517, saving model to keras_cnn_best_model.h5\n",
            "46/46 [==============================] - 27s 584ms/step - loss: 0.4860 - accuracy: 0.8378 - val_loss: 0.3525 - val_accuracy: 0.9252\n",
            "Epoch 13/101\n",
            "46/46 [==============================] - ETA: 0s - loss: 0.4465 - accuracy: 0.8555\n",
            "Epoch 13: val_accuracy did not improve from 0.92517\n",
            "46/46 [==============================] - 26s 565ms/step - loss: 0.4465 - accuracy: 0.8555 - val_loss: 0.3627 - val_accuracy: 0.8912\n",
            "Epoch 14/101\n",
            "46/46 [==============================] - ETA: 0s - loss: 0.4455 - accuracy: 0.8637\n",
            "Epoch 14: val_accuracy did not improve from 0.92517\n",
            "46/46 [==============================] - 26s 561ms/step - loss: 0.4455 - accuracy: 0.8637 - val_loss: 0.3231 - val_accuracy: 0.9184\n",
            "Epoch 15/101\n",
            "46/46 [==============================] - ETA: 0s - loss: 0.4171 - accuracy: 0.8718\n",
            "Epoch 15: val_accuracy did not improve from 0.92517\n",
            "46/46 [==============================] - 32s 698ms/step - loss: 0.4171 - accuracy: 0.8718 - val_loss: 0.4508 - val_accuracy: 0.8707\n",
            "Epoch 16/101\n",
            "46/46 [==============================] - ETA: 0s - loss: 0.4198 - accuracy: 0.8746\n",
            "Epoch 16: val_accuracy did not improve from 0.92517\n",
            "46/46 [==============================] - 26s 573ms/step - loss: 0.4198 - accuracy: 0.8746 - val_loss: 0.3394 - val_accuracy: 0.9184\n",
            "Epoch 17/101\n",
            "46/46 [==============================] - ETA: 0s - loss: 0.3947 - accuracy: 0.8759\n",
            "Epoch 17: val_accuracy did not improve from 0.92517\n",
            "46/46 [==============================] - 26s 567ms/step - loss: 0.3947 - accuracy: 0.8759 - val_loss: 0.3090 - val_accuracy: 0.9252\n",
            "Epoch 18/101\n",
            "46/46 [==============================] - ETA: 0s - loss: 0.3831 - accuracy: 0.8773\n",
            "Epoch 18: val_accuracy did not improve from 0.92517\n",
            "46/46 [==============================] - 26s 570ms/step - loss: 0.3831 - accuracy: 0.8773 - val_loss: 0.3059 - val_accuracy: 0.9252\n",
            "Epoch 19/101\n",
            "46/46 [==============================] - ETA: 0s - loss: 0.4086 - accuracy: 0.8766\n",
            "Epoch 19: val_accuracy did not improve from 0.92517\n",
            "46/46 [==============================] - 26s 565ms/step - loss: 0.4086 - accuracy: 0.8766 - val_loss: 0.4547 - val_accuracy: 0.8571\n",
            "Epoch 20/101\n",
            "46/46 [==============================] - ETA: 0s - loss: 0.4002 - accuracy: 0.8848\n",
            "Epoch 20: val_accuracy did not improve from 0.92517\n",
            "46/46 [==============================] - 26s 565ms/step - loss: 0.4002 - accuracy: 0.8848 - val_loss: 0.2992 - val_accuracy: 0.9184\n",
            "Epoch 21/101\n",
            "46/46 [==============================] - ETA: 0s - loss: 0.3754 - accuracy: 0.8896\n",
            "Epoch 21: val_accuracy did not improve from 0.92517\n",
            "46/46 [==============================] - 26s 570ms/step - loss: 0.3754 - accuracy: 0.8896 - val_loss: 0.3517 - val_accuracy: 0.9048\n",
            "Epoch 22/101\n",
            "46/46 [==============================] - ETA: 0s - loss: 0.3770 - accuracy: 0.8896\n",
            "Epoch 22: val_accuracy did not improve from 0.92517\n",
            "46/46 [==============================] - 25s 552ms/step - loss: 0.3770 - accuracy: 0.8896 - val_loss: 0.4039 - val_accuracy: 0.8912\n",
            "Epoch 23/101\n",
            "46/46 [==============================] - ETA: 0s - loss: 0.3682 - accuracy: 0.8848\n",
            "Epoch 23: val_accuracy did not improve from 0.92517\n",
            "46/46 [==============================] - 25s 537ms/step - loss: 0.3682 - accuracy: 0.8848 - val_loss: 0.3296 - val_accuracy: 0.9116\n",
            "Epoch 24/101\n",
            "46/46 [==============================] - ETA: 0s - loss: 0.3353 - accuracy: 0.9039\n",
            "Epoch 24: val_accuracy did not improve from 0.92517\n",
            "46/46 [==============================] - 26s 559ms/step - loss: 0.3353 - accuracy: 0.9039 - val_loss: 0.4889 - val_accuracy: 0.8435\n",
            "Epoch 25/101\n",
            "46/46 [==============================] - ETA: 0s - loss: 0.4043 - accuracy: 0.8718\n",
            "Epoch 25: val_accuracy did not improve from 0.92517\n",
            "46/46 [==============================] - 26s 566ms/step - loss: 0.4043 - accuracy: 0.8718 - val_loss: 0.4243 - val_accuracy: 0.8776\n",
            "Epoch 26/101\n",
            "46/46 [==============================] - ETA: 0s - loss: 0.3559 - accuracy: 0.8998\n",
            "Epoch 26: val_accuracy did not improve from 0.92517\n",
            "46/46 [==============================] - 27s 588ms/step - loss: 0.3559 - accuracy: 0.8998 - val_loss: 0.4890 - val_accuracy: 0.8367\n",
            "Epoch 27/101\n",
            "46/46 [==============================] - ETA: 0s - loss: 0.3374 - accuracy: 0.9012\n",
            "Epoch 27: val_accuracy did not improve from 0.92517\n",
            "46/46 [==============================] - 27s 590ms/step - loss: 0.3374 - accuracy: 0.9012 - val_loss: 0.4369 - val_accuracy: 0.8776\n",
            "Epoch 28/101\n",
            "46/46 [==============================] - ETA: 0s - loss: 0.3410 - accuracy: 0.8998\n",
            "Epoch 28: val_accuracy did not improve from 0.92517\n",
            "46/46 [==============================] - 27s 591ms/step - loss: 0.3410 - accuracy: 0.8998 - val_loss: 0.3536 - val_accuracy: 0.8980\n",
            "Epoch 29/101\n",
            "46/46 [==============================] - ETA: 0s - loss: 0.3605 - accuracy: 0.8978\n",
            "Epoch 29: val_accuracy did not improve from 0.92517\n",
            "46/46 [==============================] - 27s 588ms/step - loss: 0.3605 - accuracy: 0.8978 - val_loss: 0.3250 - val_accuracy: 0.9048\n",
            "Epoch 30/101\n",
            "46/46 [==============================] - ETA: 0s - loss: 0.3280 - accuracy: 0.9141\n",
            "Epoch 30: val_accuracy did not improve from 0.92517\n",
            "46/46 [==============================] - 27s 584ms/step - loss: 0.3280 - accuracy: 0.9141 - val_loss: 0.3501 - val_accuracy: 0.9116\n",
            "Epoch 31/101\n",
            "46/46 [==============================] - ETA: 0s - loss: 0.3295 - accuracy: 0.9032\n",
            "Epoch 31: val_accuracy did not improve from 0.92517\n",
            "46/46 [==============================] - 25s 545ms/step - loss: 0.3295 - accuracy: 0.9032 - val_loss: 0.3946 - val_accuracy: 0.8776\n",
            "Epoch 32/101\n",
            "46/46 [==============================] - ETA: 0s - loss: 0.3211 - accuracy: 0.9114\n",
            "Epoch 32: val_accuracy did not improve from 0.92517\n",
            "46/46 [==============================] - 25s 552ms/step - loss: 0.3211 - accuracy: 0.9114 - val_loss: 0.3127 - val_accuracy: 0.9184\n",
            "Epoch 33/101\n",
            "46/46 [==============================] - ETA: 0s - loss: 0.3199 - accuracy: 0.9107\n",
            "Epoch 33: val_accuracy improved from 0.92517 to 0.93197, saving model to keras_cnn_best_model.h5\n",
            "46/46 [==============================] - 27s 583ms/step - loss: 0.3199 - accuracy: 0.9107 - val_loss: 0.3175 - val_accuracy: 0.9320\n",
            "Epoch 34/101\n",
            "46/46 [==============================] - ETA: 0s - loss: 0.3025 - accuracy: 0.9182\n",
            "Epoch 34: val_accuracy did not improve from 0.93197\n",
            "46/46 [==============================] - 26s 565ms/step - loss: 0.3025 - accuracy: 0.9182 - val_loss: 0.3738 - val_accuracy: 0.9048\n",
            "Epoch 35/101\n",
            "46/46 [==============================] - ETA: 0s - loss: 0.3186 - accuracy: 0.9093\n",
            "Epoch 35: val_accuracy improved from 0.93197 to 0.93878, saving model to keras_cnn_best_model.h5\n",
            "46/46 [==============================] - 26s 578ms/step - loss: 0.3186 - accuracy: 0.9093 - val_loss: 0.2872 - val_accuracy: 0.9388\n",
            "Epoch 36/101\n",
            "46/46 [==============================] - ETA: 0s - loss: 0.3280 - accuracy: 0.9052\n",
            "Epoch 36: val_accuracy did not improve from 0.93878\n",
            "46/46 [==============================] - 26s 567ms/step - loss: 0.3280 - accuracy: 0.9052 - val_loss: 0.3084 - val_accuracy: 0.9116\n",
            "Epoch 37/101\n",
            "46/46 [==============================] - ETA: 0s - loss: 0.3100 - accuracy: 0.9209\n",
            "Epoch 37: val_accuracy did not improve from 0.93878\n",
            "46/46 [==============================] - 26s 563ms/step - loss: 0.3100 - accuracy: 0.9209 - val_loss: 0.3260 - val_accuracy: 0.9048\n",
            "Epoch 38/101\n",
            "46/46 [==============================] - ETA: 0s - loss: 0.3094 - accuracy: 0.9223\n",
            "Epoch 38: val_accuracy did not improve from 0.93878\n",
            "46/46 [==============================] - 26s 565ms/step - loss: 0.3094 - accuracy: 0.9223 - val_loss: 0.3810 - val_accuracy: 0.8912\n",
            "Epoch 39/101\n",
            "46/46 [==============================] - ETA: 0s - loss: 0.3325 - accuracy: 0.9134\n",
            "Epoch 39: val_accuracy did not improve from 0.93878\n",
            "46/46 [==============================] - 26s 566ms/step - loss: 0.3325 - accuracy: 0.9134 - val_loss: 0.3473 - val_accuracy: 0.9048\n",
            "Epoch 40/101\n",
            "46/46 [==============================] - ETA: 0s - loss: 0.3215 - accuracy: 0.9127\n",
            "Epoch 40: val_accuracy did not improve from 0.93878\n",
            "46/46 [==============================] - 26s 567ms/step - loss: 0.3215 - accuracy: 0.9127 - val_loss: 0.3787 - val_accuracy: 0.8980\n",
            "Epoch 41/101\n",
            "46/46 [==============================] - ETA: 0s - loss: 0.3040 - accuracy: 0.9209\n",
            "Epoch 41: val_accuracy did not improve from 0.93878\n",
            "46/46 [==============================] - 27s 590ms/step - loss: 0.3040 - accuracy: 0.9209 - val_loss: 0.4759 - val_accuracy: 0.8912\n",
            "Epoch 42/101\n",
            "46/46 [==============================] - ETA: 0s - loss: 0.3166 - accuracy: 0.9107\n",
            "Epoch 42: val_accuracy did not improve from 0.93878\n",
            "46/46 [==============================] - 30s 641ms/step - loss: 0.3166 - accuracy: 0.9107 - val_loss: 0.2665 - val_accuracy: 0.9320\n",
            "Epoch 43/101\n",
            "46/46 [==============================] - ETA: 0s - loss: 0.2999 - accuracy: 0.9196\n",
            "Epoch 43: val_accuracy did not improve from 0.93878\n",
            "46/46 [==============================] - 27s 593ms/step - loss: 0.2999 - accuracy: 0.9196 - val_loss: 0.3560 - val_accuracy: 0.8980\n",
            "Epoch 44/101\n",
            "46/46 [==============================] - ETA: 0s - loss: 0.2937 - accuracy: 0.9168\n",
            "Epoch 44: val_accuracy did not improve from 0.93878\n",
            "46/46 [==============================] - 27s 593ms/step - loss: 0.2937 - accuracy: 0.9168 - val_loss: 0.2875 - val_accuracy: 0.9252\n",
            "Epoch 45/101\n",
            "46/46 [==============================] - ETA: 0s - loss: 0.2889 - accuracy: 0.9209\n",
            "Epoch 45: val_accuracy did not improve from 0.93878\n",
            "46/46 [==============================] - 28s 618ms/step - loss: 0.2889 - accuracy: 0.9209 - val_loss: 0.5031 - val_accuracy: 0.8435\n",
            "Epoch 46/101\n",
            "46/46 [==============================] - ETA: 0s - loss: 0.3050 - accuracy: 0.9223\n",
            "Epoch 46: val_accuracy did not improve from 0.93878\n",
            "46/46 [==============================] - 28s 608ms/step - loss: 0.3050 - accuracy: 0.9223 - val_loss: 0.3460 - val_accuracy: 0.9048\n",
            "Epoch 47/101\n",
            "46/46 [==============================] - ETA: 0s - loss: 0.2733 - accuracy: 0.9277\n",
            "Epoch 47: val_accuracy did not improve from 0.93878\n",
            "46/46 [==============================] - 26s 562ms/step - loss: 0.2733 - accuracy: 0.9277 - val_loss: 0.3600 - val_accuracy: 0.9048\n",
            "Epoch 48/101\n",
            "46/46 [==============================] - ETA: 0s - loss: 0.2865 - accuracy: 0.9141\n",
            "Epoch 48: val_accuracy did not improve from 0.93878\n",
            "46/46 [==============================] - 27s 592ms/step - loss: 0.2865 - accuracy: 0.9141 - val_loss: 0.3287 - val_accuracy: 0.9252\n",
            "Epoch 49/101\n",
            "46/46 [==============================] - ETA: 0s - loss: 0.2745 - accuracy: 0.9366\n",
            "Epoch 49: val_accuracy did not improve from 0.93878\n",
            "46/46 [==============================] - 26s 575ms/step - loss: 0.2745 - accuracy: 0.9366 - val_loss: 0.3836 - val_accuracy: 0.9116\n",
            "Epoch 50/101\n",
            "46/46 [==============================] - ETA: 0s - loss: 0.2887 - accuracy: 0.9318\n",
            "Epoch 50: val_accuracy did not improve from 0.93878\n",
            "46/46 [==============================] - 25s 539ms/step - loss: 0.2887 - accuracy: 0.9318 - val_loss: 0.2916 - val_accuracy: 0.9252\n",
            "Epoch 51/101\n",
            "46/46 [==============================] - ETA: 0s - loss: 0.2856 - accuracy: 0.9230\n",
            "Epoch 51: val_accuracy did not improve from 0.93878\n",
            "46/46 [==============================] - 26s 560ms/step - loss: 0.2856 - accuracy: 0.9230 - val_loss: 0.3369 - val_accuracy: 0.9116\n",
            "Epoch 52/101\n",
            "46/46 [==============================] - ETA: 0s - loss: 0.2618 - accuracy: 0.9366\n",
            "Epoch 52: val_accuracy did not improve from 0.93878\n",
            "46/46 [==============================] - 26s 562ms/step - loss: 0.2618 - accuracy: 0.9366 - val_loss: 0.2844 - val_accuracy: 0.9320\n",
            "Epoch 53/101\n",
            "46/46 [==============================] - ETA: 0s - loss: 0.2886 - accuracy: 0.9305\n",
            "Epoch 53: val_accuracy did not improve from 0.93878\n",
            "46/46 [==============================] - 26s 564ms/step - loss: 0.2886 - accuracy: 0.9305 - val_loss: 0.2899 - val_accuracy: 0.9320\n",
            "Epoch 54/101\n",
            "46/46 [==============================] - ETA: 0s - loss: 0.2625 - accuracy: 0.9298\n",
            "Epoch 54: val_accuracy did not improve from 0.93878\n",
            "46/46 [==============================] - 26s 563ms/step - loss: 0.2625 - accuracy: 0.9298 - val_loss: 0.2772 - val_accuracy: 0.9320\n",
            "Epoch 55/101\n",
            "46/46 [==============================] - ETA: 0s - loss: 0.2628 - accuracy: 0.9366\n",
            "Epoch 55: val_accuracy did not improve from 0.93878\n",
            "46/46 [==============================] - 26s 561ms/step - loss: 0.2628 - accuracy: 0.9366 - val_loss: 0.3818 - val_accuracy: 0.9048\n",
            "Epoch 56/101\n",
            "46/46 [==============================] - ETA: 0s - loss: 0.2499 - accuracy: 0.9366\n",
            "Epoch 56: val_accuracy did not improve from 0.93878\n",
            "46/46 [==============================] - 26s 566ms/step - loss: 0.2499 - accuracy: 0.9366 - val_loss: 0.3087 - val_accuracy: 0.9184\n",
            "Epoch 57/101\n",
            "46/46 [==============================] - ETA: 0s - loss: 0.2577 - accuracy: 0.9359\n",
            "Epoch 57: val_accuracy did not improve from 0.93878\n",
            "46/46 [==============================] - 26s 564ms/step - loss: 0.2577 - accuracy: 0.9359 - val_loss: 0.3246 - val_accuracy: 0.9116\n",
            "Epoch 58/101\n",
            "46/46 [==============================] - ETA: 0s - loss: 0.2768 - accuracy: 0.9277\n",
            "Epoch 58: val_accuracy did not improve from 0.93878\n",
            "46/46 [==============================] - 26s 563ms/step - loss: 0.2768 - accuracy: 0.9277 - val_loss: 0.4139 - val_accuracy: 0.8980\n",
            "Epoch 59/101\n",
            "46/46 [==============================] - ETA: 0s - loss: 0.2650 - accuracy: 0.9325\n",
            "Epoch 59: val_accuracy did not improve from 0.93878\n",
            "46/46 [==============================] - 27s 591ms/step - loss: 0.2650 - accuracy: 0.9325 - val_loss: 0.3484 - val_accuracy: 0.9184\n",
            "Epoch 59: early stopping\n",
            "CPU times: user 22min 41s, sys: 36.3 s, total: 23min 17s\n",
            "Wall time: 30min 13s\n"
          ]
        }
      ]
    },
    {
      "cell_type": "code",
      "source": [
        "# Plot the loss and accuracy curves\n",
        "plt.figure(figsize=(12, 4))\n",
        "\n",
        "plt.subplot(1, 2, 1)\n",
        "plt.plot(history.history['loss'])\n",
        "plt.plot(history.history['val_loss'])\n",
        "plt.title('Loss')\n",
        "plt.xlabel('Epoch')\n",
        "plt.ylabel('Loss')\n",
        "plt.legend(['Train', 'Validation'])\n",
        "\n",
        "plt.subplot(1, 2, 2)\n",
        "plt.plot(history.history['accuracy'])\n",
        "plt.plot(history.history['val_accuracy'])\n",
        "plt.title('Accuracy')\n",
        "plt.xlabel('Epoch')\n",
        "plt.ylabel('Accuracy')\n",
        "plt.legend(['Train', 'Validation'])\n",
        "\n",
        "plt.tight_layout()\n",
        "plt.show()"
      ],
      "metadata": {
        "colab": {
          "base_uri": "https://localhost:8080/",
          "height": 407
        },
        "id": "YW_OieEJQTNz",
        "outputId": "11187dfb-14dc-4b1c-f78a-e76f4eb13863"
      },
      "execution_count": 13,
      "outputs": [
        {
          "output_type": "display_data",
          "data": {
            "text/plain": [
              "<Figure size 1200x400 with 2 Axes>"
            ],
            "image/png": "[encoded data removed]"
          },
          "metadata": {}
        }
      ]
    },
    {
      "cell_type": "code",
      "source": [
        "labels = []\n",
        "for val in range(len(validation_generator)):\n",
        "  labels.append(validation_generator[val][1].tolist())\n",
        "\n",
        "y_test = np.array([x for x in labels for x in x])\n",
        "y_test = np.argmax(y_test, axis=1)\n",
        "\n",
        "y_test.shape"
      ],
      "metadata": {
        "colab": {
          "base_uri": "https://localhost:8080/"
        },
        "id": "py72RQfoVOST",
        "outputId": "7440b42a-19be-424e-ec5f-35f463208a82"
      },
      "execution_count": 14,
      "outputs": [
        {
          "output_type": "execute_result",
          "data": {
            "text/plain": [
              "(147,)"
            ]
          },
          "metadata": {},
          "execution_count": 14
        }
      ]
    },
    {
      "cell_type": "code",
      "source": [
        "y_predict = model.predict(validation_generator)\n",
        "\n",
        "y_predict = np.argmax(y_predict, axis=1)"
      ],
      "metadata": {
        "colab": {
          "base_uri": "https://localhost:8080/"
        },
        "id": "m6dte3hSUakS",
        "outputId": "610998eb-ce71-4e20-aeb9-e3bfbc4883c3"
      },
      "execution_count": 15,
      "outputs": [
        {
          "output_type": "stream",
          "name": "stdout",
          "text": [
            "5/5 [==============================] - 4s 700ms/step\n"
          ]
        }
      ]
    },
    {
      "cell_type": "code",
      "source": [
        "# Importar las bibliotecas para las métricas de evaluación\n",
        "from sklearn.metrics import classification_report, confusion_matrix\n",
        "\n",
        "# Calcular y mostrar la matriz de confusión\n",
        "cm = confusion_matrix(y_test,y_predict)\n",
        "sns.heatmap(cm, annot=True, fmt = \"d\");"
      ],
      "metadata": {
        "colab": {
          "base_uri": "https://localhost:8080/",
          "height": 291
        },
        "id": "v8WS1wXuT14G",
        "outputId": "d04a9b3b-f007-452e-ce3a-7843f4b14728"
      },
      "execution_count": 16,
      "outputs": [
        {
          "output_type": "display_data",
          "data": {
            "text/plain": [
              "<Figure size 500x300 with 2 Axes>"
            ],
            "image/png": "[encoded data removed]"
          },
          "metadata": {}
        }
      ]
    },
    {
      "cell_type": "code",
      "source": [
        "# Imprimir el informe de clasificación\n",
        "print(classification_report(y_test,y_predict))"
      ],
      "metadata": {
        "colab": {
          "base_uri": "https://localhost:8080/"
        },
        "id": "AJc__2hzYD7k",
        "outputId": "0f7d0bbc-e6aa-42c1-eaf6-c3c6827cb75a"
      },
      "execution_count": 17,
      "outputs": [
        {
          "output_type": "stream",
          "name": "stdout",
          "text": [
            "              precision    recall  f1-score   support\n",
            "\n",
            "           0       0.98      0.81      0.88        57\n",
            "           1       0.89      0.99      0.94        90\n",
            "\n",
            "    accuracy                           0.92       147\n",
            "   macro avg       0.93      0.90      0.91       147\n",
            "weighted avg       0.92      0.92      0.92       147\n",
            "\n"
          ]
        }
      ]
    },
    {
      "cell_type": "markdown",
      "source": [
        "# Detector de peatones con Keras"
      ],
      "metadata": {
        "id": "196YXk9FfFp8"
      }
    },
    {
      "cell_type": "code",
      "source": [
        "import cv2\n",
        "import numpy as np\n",
        "from skimage.feature import hog\n",
        "from tqdm import tqdm\n",
        "from PIL import Image\n",
        "import tensorflow as tf\n",
        "\n",
        "class PedestrianDetector:\n",
        "    def __init__(self, model):\n",
        "        self.model = model\n",
        "\n",
        "    def process_frame(self, img):\n",
        "        # Define parameters for sliding window\n",
        "        window_size = (200, 200)  # Size of the sliding window\n",
        "        step_size = 32  # Step size of the sliding window\n",
        "\n",
        "        # Calculate the starting y-coordinate for the sliding window\n",
        "        start_y = img.shape[0] // 2 - 50\n",
        "        end_y = int(img.shape[0] * 0.7)\n",
        "\n",
        "        # Define a function to resize and normalize an image\n",
        "        def preprocess_image(image):\n",
        "            image = tf.image.resize(image, (100, 100))\n",
        "            image = tf.cast(image, tf.float32)\n",
        "            image = (image - 127.5) / 127.5\n",
        "            return image\n",
        "\n",
        "        # Slide the window over the image\n",
        "        for y in range(start_y, end_y, step_size):\n",
        "            for x in range(0, img.shape[1], step_size):\n",
        "                # Extract the region of interest\n",
        "                roi = img[y:y + window_size[1], x:x + window_size[0]]\n",
        "\n",
        "                # Skip if the region of interest is not the same size as the window\n",
        "                if roi.shape[0] != window_size[1] or roi.shape[1] != window_size[0]:\n",
        "                    continue\n",
        "                roi_pil = Image.fromarray(cv2.cvtColor(roi, cv2.COLOR_BGR2RGB))\n",
        "\n",
        "                # Convert the region of interest to a TensorFlow tensor and normalize\n",
        "                roi_tensor = preprocess_image(roi_pil)\n",
        "                roi_tensor = tf.expand_dims(roi_tensor, axis=0)\n",
        "\n",
        "                # Predict whether the region of interest contains a pedestrian\n",
        "                self.outputs = self.model(roi_tensor)\n",
        "                self.probabilities = tf.nn.softmax(self.outputs)\n",
        "                \n",
        "                # If a pedestrian is detected, draw a rectangle around the region of interest\n",
        "                if self.probabilities[0][1] > 0.9:\n",
        "                    cv2.rectangle(img, (x, y), (x + window_size[0], y + window_size[1]), (0, 255, 0), 2)\n",
        "                    print('Pedestrian')\n",
        "\n",
        "\n",
        "        return img\n",
        "\n",
        "    def process_video(self, input_video_path, output_video_path, fracction_to_process=0.1):\n",
        "        cap = cv2.VideoCapture(input_video_path)\n",
        "        width = int(cap.get(cv2.CAP_PROP_FRAME_WIDTH))\n",
        "        height = int(cap.get(cv2.CAP_PROP_FRAME_HEIGHT))\n",
        "        fps = int(cap.get(cv2.CAP_PROP_FPS))\n",
        "        total_frames = int(cap.get(cv2.CAP_PROP_FRAME_COUNT))\n",
        "\n",
        "        # Calculate the number of frames to process (100% of total frames)\n",
        "        num_frames_to_process = int(total_frames * fracction_to_process)\n",
        "\n",
        "        fourcc = cv2.VideoWriter_fourcc(*'mp4v')\n",
        "        out = cv2.VideoWriter(output_video_path, fourcc, fps, (width, height))\n",
        "\n",
        "        pbar = tqdm(total=num_frames_to_process, ncols=80, bar_format='{l_bar}{bar}| {n_fmt}/{total_fmt}',\n",
        "                    position=0, leave=True)\n",
        "\n",
        "        frame_count = 0\n",
        "\n",
        "        while cap.isOpened():\n",
        "            ret, frame = cap.read()\n",
        "            if ret:\n",
        "                result_frame = self.process_frame(frame)\n",
        "                out.write(result_frame)\n",
        "                #cv2.imshow('Processed Frame', result_frame)\n",
        "\n",
        "                pbar.update(1)\n",
        "                frame_count += 1\n",
        "\n",
        "                if frame_count >= num_frames_to_process:\n",
        "                    break\n",
        "\n",
        "                if cv2.waitKey(1) & 0xFF == ord('q'):\n",
        "                    break\n",
        "            else:\n",
        "                break\n",
        "\n",
        "        pbar.close()\n",
        "\n",
        "        cap.release()\n",
        "        out.release()\n",
        "        cv2.destroyAllWindows()"
      ],
      "metadata": {
        "id": "Ci_Ve69QZqKF"
      },
      "execution_count": 26,
      "outputs": []
    },
    {
      "cell_type": "code",
      "source": [
        "# Definir las rutas de los archivos de vídeo de entrada y salida\n",
        "input_video_path = data_path+'video_2_2.mp4'\n",
        "output_video_path = 'video_2_2_process_cnn-Keras.mp4'"
      ],
      "metadata": {
        "id": "_rCcihP_fvK8"
      },
      "execution_count": 27,
      "outputs": []
    },
    {
      "cell_type": "code",
      "source": [
        "%%time\n",
        "# Crear una instancia de PedestrianDetector con svc_model como el modelo a usar\n",
        "pedestrian_detector = PedestrianDetector(model)\n",
        "\n",
        "# Procesar el archivo de vídeo de entrada y guardar el archivo de vídeo de salida usando el método process_video\n",
        "pedestrian_detector.process_video(input_video_path, output_video_path, fracction_to_process=0.05)"
      ],
      "metadata": {
        "colab": {
          "base_uri": "https://localhost:8080/"
        },
        "id": "4MZjABl9fYhi",
        "outputId": "712e0c4d-12f9-44c8-8648-f2b45f1261f9"
      },
      "execution_count": 28,
      "outputs": [
        {
          "output_type": "stream",
          "name": "stderr",
          "text": [
            "100%|██████████████████████████████████████████████████████████████████| 183/183"
          ]
        },
        {
          "output_type": "stream",
          "name": "stdout",
          "text": [
            "CPU times: user 2min 9s, sys: 2.12 s, total: 2min 11s\n",
            "Wall time: 2min 17s\n"
          ]
        },
        {
          "output_type": "stream",
          "name": "stderr",
          "text": [
            "\n"
          ]
        }
      ]
    }
  ]
}